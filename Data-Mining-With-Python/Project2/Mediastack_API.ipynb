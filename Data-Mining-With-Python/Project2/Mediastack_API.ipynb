{
 "cells": [
  {
   "cell_type": "code",
   "execution_count": 1,
   "metadata": {},
   "outputs": [
    {
     "name": "stdout",
     "output_type": "stream",
     "text": [
      "{\"pagination\":{\"limit\":10,\"offset\":0,\"count\":10,\"total\":597046},\"data\":[{\"author\":\"Chinese Academy of Sciences\",\"title\":\"Scientists Develop New Gene Therapy Strategy to Delay Aging and Extend Lifespan\",\"description\":\"Cellular senescence, a state of permanent growth arrest, has emerged as a hallmark and fundamental driver of organismal aging. It is regulated by both genetic...\\nThe post Scientists Develop New Gene Therapy Strategy to Delay Aging and Extend Lifespan appeared first on SciTechDaily.\",\"url\":\"https:\\/\\/scitechdaily.com\\/scientists-develop-new-gene-therapy-strategy-to-delay-aging-and-extend-lifespan\\/\",\"source\":\"Scitechdaily | Science Space And Technology News 2017\",\"image\":null,\"category\":\"science\",\"language\":\"en\",\"country\":\"us\",\"published_at\":\"2021-01-10T01:14:54+00:00\"},{\"author\":null,\"title\":\"UPDATE: COVID-19 confirmed at two Vernon schools - Kelowna Capital News\",\"description\":\"UPDATE: COVID-19 confirmed at two Vernon schools\\u0026nbsp;\\u0026nbsp;Kelowna Capital NewsTwo drug alerts issued in North Okanagan\\u0026nbsp;\\u0026nbsp;Salmon Arm Observer3 more long-term care home deaths in Interior Health region | iNFOnews | Thompson-Okanagan\\u0027s News Source\\u0026nbsp;\\u0026nbsp;iNFOnewsThree more Okanagan care home residents have died from COVID-19 - Vernon News\\u0026nbsp;\\u0026nbsp;Castanet.netFirst COVID-19 vaccines for care home residents rolling out in Interior Health region, beginning in Oliver - Penticton News\\u0026nbsp;\\u0026nbsp;Castanet.netView Full coverage on Google News\",\"url\":\"https:\\/\\/news.google.com\\/__i\\/rss\\/rd\\/articles\\/CBMiTWh0dHBzOi8vd3d3LmtlbG93bmFjYXBuZXdzLmNvbS9uZXdzL2NvdmlkLTE5LWNvbmZpcm1lZC1hdC12ZXJub24taGlnaC1zY2hvb2wv0gEA?oc=5\",\"source\":\"Google News Health CA\",\"image\":null,\"category\":\"health\",\"language\":\"en\",\"country\":\"ca\",\"published_at\":\"2021-01-10T01:10:42+00:00\"},{\"author\":\"Cointelegraph\",\"title\":\"When is Bitcoin\\u0027s macro top? Industry player speculates\",\"description\":\"When is Bitcoin\\u0027s macro top? Industry player speculates\",\"url\":\"https:\\/\\/www.investing.com\\/news\\/cryptocurrency-news\\/when-is-bitcoins-macro-top-industry-player-speculates-2384720\",\"source\":\"Investing.com | Stock Market Quotes \\u0026amp; Financial News\",\"image\":\"https:\\/\\/d1-invdn-com.akamaized.net\\/content\\/pica248be791c152823de604cd7e9665d61.jpg\",\"category\":\"business\",\"language\":\"en\",\"country\":\"us\",\"published_at\":\"2021-01-10T01:00:20+00:00\"},{\"author\":null,\"title\":\"Apple iPhone 13 to retain design, but be thicker and with smaller notch - comments - GSMArena.com\",\"description\":\"Apple iPhone 13 to retain design, but be thicker and with smaller notch - comments\\u0026nbsp;\\u0026nbsp;GSMArena.comBelkin Boost Charge Pro 3-in-1 with MagSafe Priced at $169 in Canada\\u0026nbsp;\\u0026nbsp;iPhone in CanadaApple Loop: Stunning iPhone Leak, AirPods Problem Confirmed, Surprising MacBook Pro Upgrade\\u0026nbsp;\\u0026nbsp;ForbesNew AirPods Pro and iPhone SE Rumored to Launch in April 2021\\u0026nbsp;\\u0026nbsp;MacRumorsiPhone 13 Rumours: Same Design, But Flush Rear Camera Unit\\u0026nbsp;\\u0026nbsp;iPhone in CanadaView Full coverage on Google News\",\"url\":\"https:\\/\\/news.google.com\\/__i\\/rss\\/rd\\/articles\\/CBMiK2h0dHBzOi8vd3d3LmdzbWFyZW5hLmNvbS9uZXdzY29tbS00NzEyMi5waHDSAQA?oc=5\",\"source\":\"Google News Technology CA\",\"image\":null,\"category\":\"technology\",\"language\":\"en\",\"country\":\"ca\",\"published_at\":\"2021-01-10T00:56:12+00:00\"},{\"author\":null,\"title\":\"Pence will attend President-elect Joe Biden\\u0027s inauguration\",\"description\":\"Pence\\u0026#039;s decision to watch Biden\\u0026#039;s swearing-in ceremony at the U.S. Capitol on Jan. 20. is yet, another public break with President Donald Trump.\",\"url\":\"https:\\/\\/www.cnbc.com\\/2021\\/01\\/09\\/pence-will-attend-president-elect-joe-bidens-inauguration.html\",\"source\":\"Cnbc | World Business News Leader\",\"image\":null,\"category\":\"business\",\"language\":\"en\",\"country\":\"us\",\"published_at\":\"2021-01-10T00:56:00+00:00\"},{\"author\":\"TMZ Staff\",\"title\":\"Trump Banned from Major Social Media Platforms, Pinterest \\u0026 Shopify Too\",\"description\":\"President Trump might have to resort to opening a MySpace account to be \\u0022online\\u0022 -- because the guy can\\u0027t get bandwidth anywhere else right now ... not even on Shopify. DT has been banned from a handful of social media apps and social networking\\u0026hellip;\",\"url\":\"https:\\/\\/www.tmz.com\\/2021\\/01\\/09\\/trump-banned-social-media-platforms-pinterest-shopify-restricted\\/\",\"source\":\"TMZ\",\"image\":null,\"category\":\"entertainment\",\"language\":\"en\",\"country\":\"us\",\"published_at\":\"2021-01-10T00:55:19+00:00\"},{\"author\":\"Brian Heater\",\"title\":\"Apple suspend Parler from App Store\",\"description\":\"Following reports of a warning to site developers sent earlier this Apple today confirmed that it has pulled right wing social media platform Parler from the App Store. Apple tells TechCrunch, We have always supported diverse points of view being represented on the App Store, but there is no place on our platform for threats [\\u0026#8230;]\",\"url\":\"https:\\/\\/techcrunch.com\\/2021\\/01\\/09\\/apple-suspend-parler-from-app-store\\/\",\"source\":\"TechCrunch\",\"image\":null,\"category\":\"technology\",\"language\":\"en\",\"country\":\"us\",\"published_at\":\"2021-01-10T00:50:01+00:00\"},{\"author\":\"Jack Nicas and Davey Alba\",\"title\":\"Apple and Google Cut Off Parler, an App That Drew Trump Supporters\",\"description\":\"The companies removed the \\u201cfree speech\\u201d social network from their app stores, limiting its reach just as many conservatives are seeking alternatives to Facebook and Twitter.\",\"url\":\"https:\\/\\/www.nytimes.com\\/2021\\/01\\/09\\/technology\\/apple-google-parler.html\",\"source\":\"The New York Times\",\"image\":\"https:\\/\\/static01.nyt.com\\/images\\/2021\\/01\\/09\\/business\\/09parler1\\/09parler1-moth.jpg\",\"category\":\"business\",\"language\":\"en\",\"country\":\"us\",\"published_at\":\"2021-01-10T00:46:47+00:00\"},{\"author\":\"Jack Nicas and Davey Alba\",\"title\":\"Apple and Google Cut Off Parler, an App That Drew Trump Supporters\",\"description\":\"The companies removed the \\u201cfree speech\\u201d social network from their app stores, limiting its reach just as many conservatives are seeking alternatives to Facebook and Twitter.\",\"url\":\"https:\\/\\/www.nytimes.com\\/2021\\/01\\/09\\/technology\\/apple-google-parler.html\",\"source\":\"The New York Times\",\"image\":\"https:\\/\\/static01.nyt.com\\/images\\/2021\\/01\\/09\\/business\\/09parler1\\/09parler1-moth.jpg\",\"category\":\"technology\",\"language\":\"en\",\"country\":\"us\",\"published_at\":\"2021-01-10T00:46:47+00:00\"},{\"author\":\"Jack Nicas and Davey Alba\",\"title\":\"Apple and Google Cut Off Parler, an App That Drew Trump Supporters\",\"description\":\"The companies removed the \\u201cfree speech\\u201d social network from their app stores, limiting its reach just as many conservatives are seeking alternatives to Facebook and Twitter.\",\"url\":\"https:\\/\\/www.nytimes.com\\/2021\\/01\\/09\\/technology\\/apple-google-parler.html\",\"source\":\"The New York Times\",\"image\":\"https:\\/\\/static01.nyt.com\\/images\\/2021\\/01\\/09\\/business\\/09parler1\\/09parler1-moth.jpg\",\"category\":\"business\",\"language\":\"en\",\"country\":\"us\",\"published_at\":\"2021-01-10T00:46:47+00:00\"}]}\n"
     ]
    }
   ],
   "source": [
    "import http.client, urllib.parse\n",
    "\n",
    "conn = http.client.HTTPConnection('api.mediastack.com')\n",
    "\n",
    "params = urllib.parse.urlencode({\n",
    "    'access_key': '707bac3ad65a2c94178484bcec28251f',\n",
    "    'categories': '-general,-sports',\n",
    "    'sort': 'published_desc',\n",
    "    'limit': 10,\n",
    "    })\n",
    "\n",
    "conn.request('GET', '/v1/news?{}'.format(params))\n",
    "\n",
    "res = conn.getresponse()\n",
    "data = res.read()\n",
    "\n",
    "print(data.decode('utf-8'))"
   ]
  },
  {
   "cell_type": "code",
   "execution_count": null,
   "metadata": {},
   "outputs": [],
   "source": []
  }
 ],
 "metadata": {
  "kernelspec": {
   "display_name": "Python 3",
   "language": "python",
   "name": "python3"
  },
  "language_info": {
   "codemirror_mode": {
    "name": "ipython",
    "version": 3
   },
   "file_extension": ".py",
   "mimetype": "text/x-python",
   "name": "python",
   "nbconvert_exporter": "python",
   "pygments_lexer": "ipython3",
   "version": "3.8.5"
  }
 },
 "nbformat": 4,
 "nbformat_minor": 4
}
