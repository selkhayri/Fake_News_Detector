{
 "cells": [
  {
   "cell_type": "markdown",
   "metadata": {},
   "source": [
    "# Welcome back to to python data mining course! \n",
    "# In this tutorial we will talk about basics of data mining"
   ]
  },
  {
   "cell_type": "markdown",
   "metadata": {},
   "source": [
    "## Cluster analysis\n",
    "## Classification and regression\n",
    "### Logistic regression, k-nn classifier, and svm\n",
    "## Association and correlation\n",
    "### Outlier\n",
    "## Dimensionality reduction\n"
   ]
  },
  {
   "cell_type": "markdown",
   "metadata": {},
   "source": [
    "## Section 2.1 Cluster analysis"
   ]
  },
  {
   "cell_type": "code",
   "execution_count": 1,
   "metadata": {},
   "outputs": [],
   "source": [
    "import pandas as pd \n",
    "import seaborn as sns \n",
    "import numpy as np \n",
    "import matplotlib.pyplot as plt  \n",
    "from sklearn.cluster import KMeans \n",
    "%matplotlib  inline "
   ]
  },
  {
   "cell_type": "code",
   "execution_count": 2,
   "metadata": {},
   "outputs": [],
   "source": [
    "df = pd.read_csv('../../single_family_home_values.csv') # zillow "
   ]
  },
  {
   "cell_type": "code",
   "execution_count": 3,
   "metadata": {},
   "outputs": [
    {
     "data": {
      "text/html": [
       "<div>\n",
       "<style scoped>\n",
       "    .dataframe tbody tr th:only-of-type {\n",
       "        vertical-align: middle;\n",
       "    }\n",
       "\n",
       "    .dataframe tbody tr th {\n",
       "        vertical-align: top;\n",
       "    }\n",
       "\n",
       "    .dataframe thead th {\n",
       "        text-align: right;\n",
       "    }\n",
       "</style>\n",
       "<table border=\"1\" class=\"dataframe\">\n",
       "  <thead>\n",
       "    <tr style=\"text-align: right;\">\n",
       "      <th></th>\n",
       "      <th>id</th>\n",
       "      <th>address</th>\n",
       "      <th>city</th>\n",
       "      <th>state</th>\n",
       "      <th>zipcode</th>\n",
       "      <th>latitude</th>\n",
       "      <th>longitude</th>\n",
       "      <th>bedrooms</th>\n",
       "      <th>bathrooms</th>\n",
       "      <th>rooms</th>\n",
       "      <th>squareFootage</th>\n",
       "      <th>lotSize</th>\n",
       "      <th>yearBuilt</th>\n",
       "      <th>lastSaleDate</th>\n",
       "      <th>lastSaleAmount</th>\n",
       "      <th>priorSaleDate</th>\n",
       "      <th>priorSaleAmount</th>\n",
       "      <th>estimated_value</th>\n",
       "    </tr>\n",
       "  </thead>\n",
       "  <tbody>\n",
       "    <tr>\n",
       "      <th>0</th>\n",
       "      <td>39525749</td>\n",
       "      <td>8171 E 84th Ave</td>\n",
       "      <td>Denver</td>\n",
       "      <td>CO</td>\n",
       "      <td>80022</td>\n",
       "      <td>39.84916</td>\n",
       "      <td>-104.893468</td>\n",
       "      <td>3</td>\n",
       "      <td>2.0</td>\n",
       "      <td>6</td>\n",
       "      <td>1378</td>\n",
       "      <td>9968</td>\n",
       "      <td>2003.0</td>\n",
       "      <td>2009-12-17</td>\n",
       "      <td>75000</td>\n",
       "      <td>2004-05-13</td>\n",
       "      <td>165700.0</td>\n",
       "      <td>239753</td>\n",
       "    </tr>\n",
       "    <tr>\n",
       "      <th>1</th>\n",
       "      <td>184578398</td>\n",
       "      <td>10556 Wheeling St</td>\n",
       "      <td>Denver</td>\n",
       "      <td>CO</td>\n",
       "      <td>80022</td>\n",
       "      <td>39.88802</td>\n",
       "      <td>-104.830930</td>\n",
       "      <td>2</td>\n",
       "      <td>2.0</td>\n",
       "      <td>6</td>\n",
       "      <td>1653</td>\n",
       "      <td>6970</td>\n",
       "      <td>2004.0</td>\n",
       "      <td>2004-09-23</td>\n",
       "      <td>216935</td>\n",
       "      <td>NaN</td>\n",
       "      <td>NaN</td>\n",
       "      <td>343963</td>\n",
       "    </tr>\n",
       "  </tbody>\n",
       "</table>\n",
       "</div>"
      ],
      "text/plain": [
       "          id            address    city state  zipcode  latitude   longitude  \\\n",
       "0   39525749    8171 E 84th Ave  Denver    CO    80022  39.84916 -104.893468   \n",
       "1  184578398  10556 Wheeling St  Denver    CO    80022  39.88802 -104.830930   \n",
       "\n",
       "   bedrooms  bathrooms  rooms  squareFootage  lotSize  yearBuilt lastSaleDate  \\\n",
       "0         3        2.0      6           1378     9968     2003.0   2009-12-17   \n",
       "1         2        2.0      6           1653     6970     2004.0   2004-09-23   \n",
       "\n",
       "   lastSaleAmount priorSaleDate  priorSaleAmount  estimated_value  \n",
       "0           75000    2004-05-13         165700.0           239753  \n",
       "1          216935           NaN              NaN           343963  "
      ]
     },
     "execution_count": 3,
     "metadata": {},
     "output_type": "execute_result"
    }
   ],
   "source": [
    "df.head(2)"
   ]
  },
  {
   "cell_type": "code",
   "execution_count": 4,
   "metadata": {},
   "outputs": [
    {
     "name": "stdout",
     "output_type": "stream",
     "text": [
      "<class 'pandas.core.frame.DataFrame'>\n",
      "RangeIndex: 15000 entries, 0 to 14999\n",
      "Data columns (total 18 columns):\n",
      " #   Column           Non-Null Count  Dtype  \n",
      "---  ------           --------------  -----  \n",
      " 0   id               15000 non-null  int64  \n",
      " 1   address          15000 non-null  object \n",
      " 2   city             15000 non-null  object \n",
      " 3   state            15000 non-null  object \n",
      " 4   zipcode          15000 non-null  int64  \n",
      " 5   latitude         14985 non-null  float64\n",
      " 6   longitude        14985 non-null  float64\n",
      " 7   bedrooms         15000 non-null  int64  \n",
      " 8   bathrooms        15000 non-null  float64\n",
      " 9   rooms            15000 non-null  int64  \n",
      " 10  squareFootage    15000 non-null  int64  \n",
      " 11  lotSize          15000 non-null  int64  \n",
      " 12  yearBuilt        14999 non-null  float64\n",
      " 13  lastSaleDate     15000 non-null  object \n",
      " 14  lastSaleAmount   15000 non-null  int64  \n",
      " 15  priorSaleDate    11173 non-null  object \n",
      " 16  priorSaleAmount  11287 non-null  float64\n",
      " 17  estimated_value  15000 non-null  int64  \n",
      "dtypes: float64(5), int64(8), object(5)\n",
      "memory usage: 2.1+ MB\n"
     ]
    }
   ],
   "source": [
    "df.info()"
   ]
  },
  {
   "cell_type": "code",
   "execution_count": 5,
   "metadata": {},
   "outputs": [
    {
     "data": {
      "text/html": [
       "<div>\n",
       "<style scoped>\n",
       "    .dataframe tbody tr th:only-of-type {\n",
       "        vertical-align: middle;\n",
       "    }\n",
       "\n",
       "    .dataframe tbody tr th {\n",
       "        vertical-align: top;\n",
       "    }\n",
       "\n",
       "    .dataframe thead th {\n",
       "        text-align: right;\n",
       "    }\n",
       "</style>\n",
       "<table border=\"1\" class=\"dataframe\">\n",
       "  <thead>\n",
       "    <tr style=\"text-align: right;\">\n",
       "      <th></th>\n",
       "      <th>id</th>\n",
       "      <th>zipcode</th>\n",
       "      <th>latitude</th>\n",
       "      <th>longitude</th>\n",
       "      <th>bedrooms</th>\n",
       "      <th>bathrooms</th>\n",
       "      <th>rooms</th>\n",
       "      <th>squareFootage</th>\n",
       "      <th>lotSize</th>\n",
       "      <th>yearBuilt</th>\n",
       "      <th>lastSaleAmount</th>\n",
       "      <th>priorSaleAmount</th>\n",
       "      <th>estimated_value</th>\n",
       "    </tr>\n",
       "  </thead>\n",
       "  <tbody>\n",
       "    <tr>\n",
       "      <th>count</th>\n",
       "      <td>1.500000e+04</td>\n",
       "      <td>15000.000000</td>\n",
       "      <td>14985.000000</td>\n",
       "      <td>14985.000000</td>\n",
       "      <td>15000.000000</td>\n",
       "      <td>15000.000000</td>\n",
       "      <td>15000.000000</td>\n",
       "      <td>15000.000000</td>\n",
       "      <td>15000.00000</td>\n",
       "      <td>14999.000000</td>\n",
       "      <td>1.500000e+04</td>\n",
       "      <td>1.128700e+04</td>\n",
       "      <td>1.500000e+04</td>\n",
       "    </tr>\n",
       "    <tr>\n",
       "      <th>mean</th>\n",
       "      <td>5.176229e+07</td>\n",
       "      <td>80204.919467</td>\n",
       "      <td>39.740538</td>\n",
       "      <td>-104.964076</td>\n",
       "      <td>2.708400</td>\n",
       "      <td>2.195067</td>\n",
       "      <td>6.164133</td>\n",
       "      <td>1514.504400</td>\n",
       "      <td>5820.76620</td>\n",
       "      <td>1929.517168</td>\n",
       "      <td>4.053563e+05</td>\n",
       "      <td>2.594350e+05</td>\n",
       "      <td>6.371625e+05</td>\n",
       "    </tr>\n",
       "    <tr>\n",
       "      <th>std</th>\n",
       "      <td>6.190876e+07</td>\n",
       "      <td>9.715263</td>\n",
       "      <td>0.023555</td>\n",
       "      <td>0.039788</td>\n",
       "      <td>0.897231</td>\n",
       "      <td>1.166279</td>\n",
       "      <td>1.958601</td>\n",
       "      <td>830.635999</td>\n",
       "      <td>3013.27947</td>\n",
       "      <td>29.937051</td>\n",
       "      <td>7.756998e+05</td>\n",
       "      <td>3.379387e+05</td>\n",
       "      <td>5.044185e+05</td>\n",
       "    </tr>\n",
       "    <tr>\n",
       "      <th>min</th>\n",
       "      <td>1.433670e+05</td>\n",
       "      <td>80022.000000</td>\n",
       "      <td>39.614531</td>\n",
       "      <td>-105.108440</td>\n",
       "      <td>0.000000</td>\n",
       "      <td>0.000000</td>\n",
       "      <td>0.000000</td>\n",
       "      <td>350.000000</td>\n",
       "      <td>278.00000</td>\n",
       "      <td>1874.000000</td>\n",
       "      <td>2.590000e+02</td>\n",
       "      <td>0.000000e+00</td>\n",
       "      <td>1.477670e+05</td>\n",
       "    </tr>\n",
       "    <tr>\n",
       "      <th>25%</th>\n",
       "      <td>1.004802e+07</td>\n",
       "      <td>80205.000000</td>\n",
       "      <td>39.727634</td>\n",
       "      <td>-104.978737</td>\n",
       "      <td>2.000000</td>\n",
       "      <td>1.000000</td>\n",
       "      <td>5.000000</td>\n",
       "      <td>986.000000</td>\n",
       "      <td>4620.00000</td>\n",
       "      <td>1907.000000</td>\n",
       "      <td>1.940000e+05</td>\n",
       "      <td>1.100000e+05</td>\n",
       "      <td>3.984348e+05</td>\n",
       "    </tr>\n",
       "    <tr>\n",
       "      <th>50%</th>\n",
       "      <td>2.563241e+07</td>\n",
       "      <td>80206.000000</td>\n",
       "      <td>39.748048</td>\n",
       "      <td>-104.957689</td>\n",
       "      <td>3.000000</td>\n",
       "      <td>2.000000</td>\n",
       "      <td>6.000000</td>\n",
       "      <td>1267.500000</td>\n",
       "      <td>5950.00000</td>\n",
       "      <td>1925.000000</td>\n",
       "      <td>3.200000e+05</td>\n",
       "      <td>2.100000e+05</td>\n",
       "      <td>5.183575e+05</td>\n",
       "    </tr>\n",
       "    <tr>\n",
       "      <th>75%</th>\n",
       "      <td>5.114222e+07</td>\n",
       "      <td>80207.000000</td>\n",
       "      <td>39.758214</td>\n",
       "      <td>-104.937522</td>\n",
       "      <td>3.000000</td>\n",
       "      <td>3.000000</td>\n",
       "      <td>7.000000</td>\n",
       "      <td>1766.250000</td>\n",
       "      <td>6270.00000</td>\n",
       "      <td>1949.000000</td>\n",
       "      <td>4.632000e+05</td>\n",
       "      <td>3.302400e+05</td>\n",
       "      <td>6.879692e+05</td>\n",
       "    </tr>\n",
       "    <tr>\n",
       "      <th>max</th>\n",
       "      <td>3.209481e+08</td>\n",
       "      <td>80209.000000</td>\n",
       "      <td>39.888020</td>\n",
       "      <td>-104.830930</td>\n",
       "      <td>15.000000</td>\n",
       "      <td>12.000000</td>\n",
       "      <td>39.000000</td>\n",
       "      <td>10907.000000</td>\n",
       "      <td>122839.00000</td>\n",
       "      <td>2016.000000</td>\n",
       "      <td>4.560000e+07</td>\n",
       "      <td>1.600000e+07</td>\n",
       "      <td>1.014531e+07</td>\n",
       "    </tr>\n",
       "  </tbody>\n",
       "</table>\n",
       "</div>"
      ],
      "text/plain": [
       "                 id       zipcode      latitude     longitude      bedrooms  \\\n",
       "count  1.500000e+04  15000.000000  14985.000000  14985.000000  15000.000000   \n",
       "mean   5.176229e+07  80204.919467     39.740538   -104.964076      2.708400   \n",
       "std    6.190876e+07      9.715263      0.023555      0.039788      0.897231   \n",
       "min    1.433670e+05  80022.000000     39.614531   -105.108440      0.000000   \n",
       "25%    1.004802e+07  80205.000000     39.727634   -104.978737      2.000000   \n",
       "50%    2.563241e+07  80206.000000     39.748048   -104.957689      3.000000   \n",
       "75%    5.114222e+07  80207.000000     39.758214   -104.937522      3.000000   \n",
       "max    3.209481e+08  80209.000000     39.888020   -104.830930     15.000000   \n",
       "\n",
       "          bathrooms         rooms  squareFootage       lotSize     yearBuilt  \\\n",
       "count  15000.000000  15000.000000   15000.000000   15000.00000  14999.000000   \n",
       "mean       2.195067      6.164133    1514.504400    5820.76620   1929.517168   \n",
       "std        1.166279      1.958601     830.635999    3013.27947     29.937051   \n",
       "min        0.000000      0.000000     350.000000     278.00000   1874.000000   \n",
       "25%        1.000000      5.000000     986.000000    4620.00000   1907.000000   \n",
       "50%        2.000000      6.000000    1267.500000    5950.00000   1925.000000   \n",
       "75%        3.000000      7.000000    1766.250000    6270.00000   1949.000000   \n",
       "max       12.000000     39.000000   10907.000000  122839.00000   2016.000000   \n",
       "\n",
       "       lastSaleAmount  priorSaleAmount  estimated_value  \n",
       "count    1.500000e+04     1.128700e+04     1.500000e+04  \n",
       "mean     4.053563e+05     2.594350e+05     6.371625e+05  \n",
       "std      7.756998e+05     3.379387e+05     5.044185e+05  \n",
       "min      2.590000e+02     0.000000e+00     1.477670e+05  \n",
       "25%      1.940000e+05     1.100000e+05     3.984348e+05  \n",
       "50%      3.200000e+05     2.100000e+05     5.183575e+05  \n",
       "75%      4.632000e+05     3.302400e+05     6.879692e+05  \n",
       "max      4.560000e+07     1.600000e+07     1.014531e+07  "
      ]
     },
     "execution_count": 5,
     "metadata": {},
     "output_type": "execute_result"
    }
   ],
   "source": [
    "df.describe()"
   ]
  },
  {
   "cell_type": "code",
   "execution_count": 6,
   "metadata": {},
   "outputs": [],
   "source": [
    "X = df.drop('estimated_value', axis=1) "
   ]
  },
  {
   "cell_type": "code",
   "execution_count": 7,
   "metadata": {},
   "outputs": [],
   "source": [
    "X= X[['bedrooms', 'bathrooms',  'rooms', 'squareFootage','lotSize', 'yearBuilt', 'priorSaleAmount']]"
   ]
  },
  {
   "cell_type": "code",
   "execution_count": 8,
   "metadata": {},
   "outputs": [],
   "source": [
    "X.fillna(0, inplace=True)"
   ]
  },
  {
   "cell_type": "code",
   "execution_count": 9,
   "metadata": {},
   "outputs": [
    {
     "data": {
      "text/html": [
       "<div>\n",
       "<style scoped>\n",
       "    .dataframe tbody tr th:only-of-type {\n",
       "        vertical-align: middle;\n",
       "    }\n",
       "\n",
       "    .dataframe tbody tr th {\n",
       "        vertical-align: top;\n",
       "    }\n",
       "\n",
       "    .dataframe thead th {\n",
       "        text-align: right;\n",
       "    }\n",
       "</style>\n",
       "<table border=\"1\" class=\"dataframe\">\n",
       "  <thead>\n",
       "    <tr style=\"text-align: right;\">\n",
       "      <th></th>\n",
       "      <th>bedrooms</th>\n",
       "      <th>bathrooms</th>\n",
       "      <th>rooms</th>\n",
       "      <th>squareFootage</th>\n",
       "      <th>lotSize</th>\n",
       "      <th>yearBuilt</th>\n",
       "      <th>priorSaleAmount</th>\n",
       "    </tr>\n",
       "  </thead>\n",
       "  <tbody>\n",
       "    <tr>\n",
       "      <th>0</th>\n",
       "      <td>3</td>\n",
       "      <td>2.0</td>\n",
       "      <td>6</td>\n",
       "      <td>1378</td>\n",
       "      <td>9968</td>\n",
       "      <td>2003.0</td>\n",
       "      <td>165700.0</td>\n",
       "    </tr>\n",
       "    <tr>\n",
       "      <th>1</th>\n",
       "      <td>2</td>\n",
       "      <td>2.0</td>\n",
       "      <td>6</td>\n",
       "      <td>1653</td>\n",
       "      <td>6970</td>\n",
       "      <td>2004.0</td>\n",
       "      <td>0.0</td>\n",
       "    </tr>\n",
       "  </tbody>\n",
       "</table>\n",
       "</div>"
      ],
      "text/plain": [
       "   bedrooms  bathrooms  rooms  squareFootage  lotSize  yearBuilt  \\\n",
       "0         3        2.0      6           1378     9968     2003.0   \n",
       "1         2        2.0      6           1653     6970     2004.0   \n",
       "\n",
       "   priorSaleAmount  \n",
       "0         165700.0  \n",
       "1              0.0  "
      ]
     },
     "execution_count": 9,
     "metadata": {},
     "output_type": "execute_result"
    }
   ],
   "source": [
    "X.head(2)"
   ]
  },
  {
   "cell_type": "code",
   "execution_count": 10,
   "metadata": {},
   "outputs": [],
   "source": [
    "kmeans = KMeans(n_clusters=5, random_state=0).fit(X)"
   ]
  },
  {
   "cell_type": "code",
   "execution_count": 11,
   "metadata": {},
   "outputs": [],
   "source": [
    "labels= kmeans.labels_"
   ]
  },
  {
   "cell_type": "code",
   "execution_count": 12,
   "metadata": {},
   "outputs": [
    {
     "data": {
      "text/plain": [
       "array([1, 1, 1, ..., 0, 4, 0], dtype=int32)"
      ]
     },
     "execution_count": 12,
     "metadata": {},
     "output_type": "execute_result"
    }
   ],
   "source": [
    "labels"
   ]
  },
  {
   "cell_type": "code",
   "execution_count": 13,
   "metadata": {},
   "outputs": [
    {
     "data": {
      "text/plain": [
       "array([[3.31226296e+00, 3.83944374e+00, 8.42730721e+00, 2.69720607e+03,\n",
       "        6.97174968e+03, 1.94200506e+03, 7.43586930e+05],\n",
       "       [2.64078392e+00, 1.93525180e+00, 5.86293724e+00, 1.39300918e+03,\n",
       "        5.94409712e+03, 1.93060060e+03, 3.93563157e+04],\n",
       "       [3.00000000e+00, 4.50000000e+00, 9.00000000e+00, 3.74800000e+03,\n",
       "        8.59750000e+03, 1.99800000e+03, 1.37500550e+07],\n",
       "       [3.73118280e+00, 5.64516129e+00, 1.04408602e+01, 4.51996774e+03,\n",
       "        1.30122688e+04, 1.96766667e+03, 2.37729552e+06],\n",
       "       [2.70373430e+00, 2.27247191e+00, 6.20290813e+00, 1.47484848e+03,\n",
       "        5.39461203e+03, 1.92551404e+03, 2.93157062e+05]])"
      ]
     },
     "execution_count": 13,
     "metadata": {},
     "output_type": "execute_result"
    }
   ],
   "source": [
    "kmeans.cluster_centers_\n"
   ]
  },
  {
   "cell_type": "code",
   "execution_count": 14,
   "metadata": {},
   "outputs": [],
   "source": [
    "X['cluster'] = labels"
   ]
  },
  {
   "cell_type": "code",
   "execution_count": 15,
   "metadata": {},
   "outputs": [
    {
     "data": {
      "text/html": [
       "<div>\n",
       "<style scoped>\n",
       "    .dataframe tbody tr th:only-of-type {\n",
       "        vertical-align: middle;\n",
       "    }\n",
       "\n",
       "    .dataframe tbody tr th {\n",
       "        vertical-align: top;\n",
       "    }\n",
       "\n",
       "    .dataframe thead th {\n",
       "        text-align: right;\n",
       "    }\n",
       "</style>\n",
       "<table border=\"1\" class=\"dataframe\">\n",
       "  <thead>\n",
       "    <tr style=\"text-align: right;\">\n",
       "      <th></th>\n",
       "      <th>bedrooms</th>\n",
       "      <th>bathrooms</th>\n",
       "      <th>rooms</th>\n",
       "      <th>squareFootage</th>\n",
       "      <th>lotSize</th>\n",
       "      <th>yearBuilt</th>\n",
       "      <th>priorSaleAmount</th>\n",
       "      <th>cluster</th>\n",
       "    </tr>\n",
       "  </thead>\n",
       "  <tbody>\n",
       "    <tr>\n",
       "      <th>0</th>\n",
       "      <td>3</td>\n",
       "      <td>2.0</td>\n",
       "      <td>6</td>\n",
       "      <td>1378</td>\n",
       "      <td>9968</td>\n",
       "      <td>2003.0</td>\n",
       "      <td>165700.0</td>\n",
       "      <td>1</td>\n",
       "    </tr>\n",
       "    <tr>\n",
       "      <th>1</th>\n",
       "      <td>2</td>\n",
       "      <td>2.0</td>\n",
       "      <td>6</td>\n",
       "      <td>1653</td>\n",
       "      <td>6970</td>\n",
       "      <td>2004.0</td>\n",
       "      <td>0.0</td>\n",
       "      <td>1</td>\n",
       "    </tr>\n",
       "    <tr>\n",
       "      <th>2</th>\n",
       "      <td>3</td>\n",
       "      <td>1.0</td>\n",
       "      <td>0</td>\n",
       "      <td>1882</td>\n",
       "      <td>23875</td>\n",
       "      <td>1917.0</td>\n",
       "      <td>0.0</td>\n",
       "      <td>1</td>\n",
       "    </tr>\n",
       "    <tr>\n",
       "      <th>3</th>\n",
       "      <td>4</td>\n",
       "      <td>3.0</td>\n",
       "      <td>0</td>\n",
       "      <td>2400</td>\n",
       "      <td>11500</td>\n",
       "      <td>1956.0</td>\n",
       "      <td>0.0</td>\n",
       "      <td>1</td>\n",
       "    </tr>\n",
       "    <tr>\n",
       "      <th>4</th>\n",
       "      <td>3</td>\n",
       "      <td>4.0</td>\n",
       "      <td>8</td>\n",
       "      <td>2305</td>\n",
       "      <td>5600</td>\n",
       "      <td>1998.0</td>\n",
       "      <td>0.0</td>\n",
       "      <td>1</td>\n",
       "    </tr>\n",
       "  </tbody>\n",
       "</table>\n",
       "</div>"
      ],
      "text/plain": [
       "   bedrooms  bathrooms  rooms  squareFootage  lotSize  yearBuilt  \\\n",
       "0         3        2.0      6           1378     9968     2003.0   \n",
       "1         2        2.0      6           1653     6970     2004.0   \n",
       "2         3        1.0      0           1882    23875     1917.0   \n",
       "3         4        3.0      0           2400    11500     1956.0   \n",
       "4         3        4.0      8           2305     5600     1998.0   \n",
       "\n",
       "   priorSaleAmount  cluster  \n",
       "0         165700.0        1  \n",
       "1              0.0        1  \n",
       "2              0.0        1  \n",
       "3              0.0        1  \n",
       "4              0.0        1  "
      ]
     },
     "execution_count": 15,
     "metadata": {},
     "output_type": "execute_result"
    }
   ],
   "source": [
    "X.head()"
   ]
  },
  {
   "cell_type": "code",
   "execution_count": 16,
   "metadata": {},
   "outputs": [
    {
     "data": {
      "text/html": [
       "<div>\n",
       "<style scoped>\n",
       "    .dataframe tbody tr th:only-of-type {\n",
       "        vertical-align: middle;\n",
       "    }\n",
       "\n",
       "    .dataframe tbody tr th {\n",
       "        vertical-align: top;\n",
       "    }\n",
       "\n",
       "    .dataframe thead th {\n",
       "        text-align: right;\n",
       "    }\n",
       "</style>\n",
       "<table border=\"1\" class=\"dataframe\">\n",
       "  <thead>\n",
       "    <tr style=\"text-align: right;\">\n",
       "      <th></th>\n",
       "      <th>bedrooms</th>\n",
       "      <th>bathrooms</th>\n",
       "      <th>rooms</th>\n",
       "      <th>squareFootage</th>\n",
       "      <th>lotSize</th>\n",
       "      <th>yearBuilt</th>\n",
       "      <th>priorSaleAmount</th>\n",
       "    </tr>\n",
       "    <tr>\n",
       "      <th>cluster</th>\n",
       "      <th></th>\n",
       "      <th></th>\n",
       "      <th></th>\n",
       "      <th></th>\n",
       "      <th></th>\n",
       "      <th></th>\n",
       "      <th></th>\n",
       "    </tr>\n",
       "  </thead>\n",
       "  <tbody>\n",
       "    <tr>\n",
       "      <th>0</th>\n",
       "      <td>3.312263</td>\n",
       "      <td>3.839444</td>\n",
       "      <td>8.427307</td>\n",
       "      <td>2697.206068</td>\n",
       "      <td>6971.749684</td>\n",
       "      <td>1942.005057</td>\n",
       "      <td>7.435869e+05</td>\n",
       "    </tr>\n",
       "    <tr>\n",
       "      <th>1</th>\n",
       "      <td>2.641226</td>\n",
       "      <td>1.935344</td>\n",
       "      <td>5.863614</td>\n",
       "      <td>1393.248821</td>\n",
       "      <td>5944.416232</td>\n",
       "      <td>1930.599901</td>\n",
       "      <td>3.929321e+04</td>\n",
       "    </tr>\n",
       "    <tr>\n",
       "      <th>2</th>\n",
       "      <td>3.000000</td>\n",
       "      <td>4.500000</td>\n",
       "      <td>9.000000</td>\n",
       "      <td>3748.000000</td>\n",
       "      <td>8597.500000</td>\n",
       "      <td>1998.000000</td>\n",
       "      <td>1.375006e+07</td>\n",
       "    </tr>\n",
       "    <tr>\n",
       "      <th>3</th>\n",
       "      <td>3.731183</td>\n",
       "      <td>5.645161</td>\n",
       "      <td>10.440860</td>\n",
       "      <td>4519.967742</td>\n",
       "      <td>13012.268817</td>\n",
       "      <td>1967.666667</td>\n",
       "      <td>2.377296e+06</td>\n",
       "    </tr>\n",
       "    <tr>\n",
       "      <th>4</th>\n",
       "      <td>2.703104</td>\n",
       "      <td>2.272127</td>\n",
       "      <td>6.201783</td>\n",
       "      <td>1474.475561</td>\n",
       "      <td>5394.550363</td>\n",
       "      <td>1925.518329</td>\n",
       "      <td>2.930734e+05</td>\n",
       "    </tr>\n",
       "  </tbody>\n",
       "</table>\n",
       "</div>"
      ],
      "text/plain": [
       "         bedrooms  bathrooms      rooms  squareFootage       lotSize  \\\n",
       "cluster                                                                \n",
       "0        3.312263   3.839444   8.427307    2697.206068   6971.749684   \n",
       "1        2.641226   1.935344   5.863614    1393.248821   5944.416232   \n",
       "2        3.000000   4.500000   9.000000    3748.000000   8597.500000   \n",
       "3        3.731183   5.645161  10.440860    4519.967742  13012.268817   \n",
       "4        2.703104   2.272127   6.201783    1474.475561   5394.550363   \n",
       "\n",
       "           yearBuilt  priorSaleAmount  \n",
       "cluster                                \n",
       "0        1942.005057     7.435869e+05  \n",
       "1        1930.599901     3.929321e+04  \n",
       "2        1998.000000     1.375006e+07  \n",
       "3        1967.666667     2.377296e+06  \n",
       "4        1925.518329     2.930734e+05  "
      ]
     },
     "execution_count": 16,
     "metadata": {},
     "output_type": "execute_result"
    }
   ],
   "source": [
    "X.groupby('cluster').mean()"
   ]
  },
  {
   "cell_type": "code",
   "execution_count": 17,
   "metadata": {},
   "outputs": [
    {
     "data": {
      "text/html": [
       "<div>\n",
       "<style scoped>\n",
       "    .dataframe tbody tr th:only-of-type {\n",
       "        vertical-align: middle;\n",
       "    }\n",
       "\n",
       "    .dataframe tbody tr th {\n",
       "        vertical-align: top;\n",
       "    }\n",
       "\n",
       "    .dataframe thead th {\n",
       "        text-align: right;\n",
       "    }\n",
       "</style>\n",
       "<table border=\"1\" class=\"dataframe\">\n",
       "  <thead>\n",
       "    <tr style=\"text-align: right;\">\n",
       "      <th></th>\n",
       "      <th>bedrooms</th>\n",
       "      <th>bathrooms</th>\n",
       "      <th>rooms</th>\n",
       "      <th>squareFootage</th>\n",
       "      <th>lotSize</th>\n",
       "      <th>yearBuilt</th>\n",
       "      <th>priorSaleAmount</th>\n",
       "    </tr>\n",
       "    <tr>\n",
       "      <th>cluster</th>\n",
       "      <th></th>\n",
       "      <th></th>\n",
       "      <th></th>\n",
       "      <th></th>\n",
       "      <th></th>\n",
       "      <th></th>\n",
       "      <th></th>\n",
       "    </tr>\n",
       "  </thead>\n",
       "  <tbody>\n",
       "    <tr>\n",
       "      <th>0</th>\n",
       "      <td>3.0</td>\n",
       "      <td>4.0</td>\n",
       "      <td>8.0</td>\n",
       "      <td>2582.0</td>\n",
       "      <td>6250.0</td>\n",
       "      <td>1927.0</td>\n",
       "      <td>651500.0</td>\n",
       "    </tr>\n",
       "    <tr>\n",
       "      <th>1</th>\n",
       "      <td>2.0</td>\n",
       "      <td>2.0</td>\n",
       "      <td>5.0</td>\n",
       "      <td>1133.0</td>\n",
       "      <td>6236.5</td>\n",
       "      <td>1928.5</td>\n",
       "      <td>0.0</td>\n",
       "    </tr>\n",
       "    <tr>\n",
       "      <th>2</th>\n",
       "      <td>3.0</td>\n",
       "      <td>4.5</td>\n",
       "      <td>9.0</td>\n",
       "      <td>3748.0</td>\n",
       "      <td>8597.5</td>\n",
       "      <td>1998.0</td>\n",
       "      <td>13750055.0</td>\n",
       "    </tr>\n",
       "    <tr>\n",
       "      <th>3</th>\n",
       "      <td>4.0</td>\n",
       "      <td>6.0</td>\n",
       "      <td>10.0</td>\n",
       "      <td>4424.0</td>\n",
       "      <td>8580.0</td>\n",
       "      <td>1989.0</td>\n",
       "      <td>2200000.0</td>\n",
       "    </tr>\n",
       "    <tr>\n",
       "      <th>4</th>\n",
       "      <td>3.0</td>\n",
       "      <td>2.0</td>\n",
       "      <td>6.0</td>\n",
       "      <td>1327.0</td>\n",
       "      <td>5210.0</td>\n",
       "      <td>1923.0</td>\n",
       "      <td>279900.0</td>\n",
       "    </tr>\n",
       "  </tbody>\n",
       "</table>\n",
       "</div>"
      ],
      "text/plain": [
       "         bedrooms  bathrooms  rooms  squareFootage  lotSize  yearBuilt  \\\n",
       "cluster                                                                  \n",
       "0             3.0        4.0    8.0         2582.0   6250.0     1927.0   \n",
       "1             2.0        2.0    5.0         1133.0   6236.5     1928.5   \n",
       "2             3.0        4.5    9.0         3748.0   8597.5     1998.0   \n",
       "3             4.0        6.0   10.0         4424.0   8580.0     1989.0   \n",
       "4             3.0        2.0    6.0         1327.0   5210.0     1923.0   \n",
       "\n",
       "         priorSaleAmount  \n",
       "cluster                   \n",
       "0               651500.0  \n",
       "1                    0.0  \n",
       "2             13750055.0  \n",
       "3              2200000.0  \n",
       "4               279900.0  "
      ]
     },
     "execution_count": 17,
     "metadata": {},
     "output_type": "execute_result"
    }
   ],
   "source": [
    "X.groupby('cluster').median()"
   ]
  },
  {
   "cell_type": "code",
   "execution_count": 18,
   "metadata": {},
   "outputs": [],
   "source": [
    "X= X.drop('cluster', axis=1)"
   ]
  },
  {
   "cell_type": "code",
   "execution_count": 19,
   "metadata": {},
   "outputs": [],
   "source": [
    "from  sklearn.metrics import silhouette_score"
   ]
  },
  {
   "cell_type": "code",
   "execution_count": 20,
   "metadata": {},
   "outputs": [
    {
     "name": "stdout",
     "output_type": "stream",
     "text": [
      "0.6145595723417597\n",
      "0.6167477265059356\n",
      "0.6328560399129648\n",
      "0.643438596521382\n",
      "0.6579627892349312\n",
      "0.6613115656171156\n",
      "0.6567055405556348\n"
     ]
    }
   ],
   "source": [
    "for i in range(3, 10):\n",
    "    kmeans=KMeans(n_clusters=i).fit(X)\n",
    "    labels = kmeans.labels_\n",
    "    print(silhouette_score(X,  labels))\n",
    "    #print  kmeans.cluster_centers_  "
   ]
  },
  {
   "cell_type": "code",
   "execution_count": 21,
   "metadata": {},
   "outputs": [
    {
     "name": "stdout",
     "output_type": "stream",
     "text": [
      "Automatically created module for IPython interactive environment\n"
     ]
    },
    {
     "name": "stderr",
     "output_type": "stream",
     "text": [
      "<ipython-input-21-54fae3cd2877>:74: UserWarning: Matplotlib is currently using module://ipykernel.pylab.backend_inline, which is a non-GUI backend, so cannot show the figure.\n",
      "  fig.show()\n"
     ]
    },
    {
     "data": {
      "image/png": "[encoded data removed]",
      "text/plain": [
       "<Figure size 288x216 with 1 Axes>"
      ]
     },
     "metadata": {
      "needs_background": "light"
     },
     "output_type": "display_data"
    },
    {
     "data": {
      "image/png": "[encoded data removed]",
      "text/plain": [
       "<Figure size 288x216 with 1 Axes>"
      ]
     },
     "metadata": {
      "needs_background": "light"
     },
     "output_type": "display_data"
    },
    {
     "data": {
      "image/png": "[encoded data removed]",
      "text/plain": [
       "<Figure size 288x216 with 1 Axes>"
      ]
     },
     "metadata": {
      "needs_background": "light"
     },
     "output_type": "display_data"
    },
    {
     "data": {
      "image/png": "[encoded data removed]",
      "text/plain": [
       "<Figure size 288x216 with 1 Axes>"
      ]
     },
     "metadata": {
      "needs_background": "light"
     },
     "output_type": "display_data"
    }
   ],
   "source": [
    "print(__doc__)\n",
    "\n",
    "\n",
    "# Code source: Gaël Varoquaux\n",
    "# Modified for documentation by Jaques Grobler\n",
    "# License: BSD 3 clause\n",
    "\n",
    "import numpy as np\n",
    "import matplotlib.pyplot as plt\n",
    "# Though the following import is not directly being used, it is required\n",
    "# for 3D projection to work\n",
    "from mpl_toolkits.mplot3d import Axes3D\n",
    "\n",
    "from sklearn.cluster import KMeans\n",
    "from sklearn import datasets\n",
    "\n",
    "np.random.seed(5)\n",
    "\n",
    "iris = datasets.load_iris()\n",
    "Xi = iris.data\n",
    "yi = iris.target\n",
    "\n",
    "estimators = [('k_means_iris_8', KMeans(n_clusters=8)),\n",
    "              ('k_means_iris_3', KMeans(n_clusters=3)),\n",
    "              ('k_means_iris_bad_init', KMeans(n_clusters=3, n_init=1,\n",
    "                                               init='random'))]\n",
    "\n",
    "fignum = 1\n",
    "titles = ['8 clusters', '3 clusters', '3 clusters, bad initialization']\n",
    "for name, est in estimators:\n",
    "    fig = plt.figure(fignum, figsize=(4, 3))\n",
    "    ax = Axes3D(fig, rect=[0, 0, .95, 1], elev=48, azim=134)\n",
    "    est.fit(Xi)\n",
    "    labels = est.labels_\n",
    "\n",
    "    ax.scatter(Xi[:, 3], Xi[:, 0], Xi[:, 2],\n",
    "               c=labels.astype(np.float), edgecolor='k')\n",
    "\n",
    "    ax.w_xaxis.set_ticklabels([])\n",
    "    ax.w_yaxis.set_ticklabels([])\n",
    "    ax.w_zaxis.set_ticklabels([])\n",
    "    ax.set_xlabel('Petal width')\n",
    "    ax.set_ylabel('Sepal length')\n",
    "    ax.set_zlabel('Petal length')\n",
    "    ax.set_title(titles[fignum - 1])\n",
    "    ax.dist = 12\n",
    "    fignum = fignum + 1\n",
    "\n",
    "# Plot the ground truth\n",
    "fig = plt.figure(fignum, figsize=(4, 3))\n",
    "ax = Axes3D(fig, rect=[0, 0, .95, 1], elev=48, azim=134)\n",
    "\n",
    "for name, label in [('Setosa', 0),\n",
    "                    ('Versicolour', 1),\n",
    "                    ('Virginica', 2)]:\n",
    "    ax.text3D(Xi[yi == label, 3].mean(),\n",
    "              Xi[yi == label, 0].mean(),\n",
    "              Xi[yi == label, 2].mean() + 2, name,\n",
    "              horizontalalignment='center',\n",
    "              bbox=dict(alpha=.2, edgecolor='w', facecolor='w'))\n",
    "# Reorder the labels to have colors matching the cluster results\n",
    "yi = np.choose(yi, [1, 2, 0]).astype(np.float)\n",
    "ax.scatter(Xi[:, 3], Xi[:, 0], Xi[:, 2], c=yi, edgecolor='k')\n",
    "\n",
    "ax.w_xaxis.set_ticklabels([])\n",
    "ax.w_yaxis.set_ticklabels([])\n",
    "ax.w_zaxis.set_ticklabels([])\n",
    "ax.set_xlabel('Petal width')\n",
    "ax.set_ylabel('Sepal length')\n",
    "ax.set_zlabel('Petal length')\n",
    "ax.set_title('Ground Truth')\n",
    "ax.dist = 12\n",
    "\n",
    "fig.show()\n"
   ]
  },
  {
   "cell_type": "markdown",
   "metadata": {},
   "source": [
    "## Section 2.2 Classification and regression"
   ]
  },
  {
   "cell_type": "code",
   "execution_count": 22,
   "metadata": {},
   "outputs": [],
   "source": [
    "from sklearn.linear_model import LinearRegression, LogisticRegression \n",
    "\n",
    "from sklearn.svm import SVC, SVR\n",
    "\n",
    "from sklearn.neighbors import KNeighborsClassifier , KNeighborsRegressor\n",
    "from sklearn.model_selection import train_test_split\n",
    "from sklearn.metrics import confusion_matrix"
   ]
  },
  {
   "cell_type": "code",
   "execution_count": 23,
   "metadata": {},
   "outputs": [
    {
     "data": {
      "text/html": [
       "<div>\n",
       "<style scoped>\n",
       "    .dataframe tbody tr th:only-of-type {\n",
       "        vertical-align: middle;\n",
       "    }\n",
       "\n",
       "    .dataframe tbody tr th {\n",
       "        vertical-align: top;\n",
       "    }\n",
       "\n",
       "    .dataframe thead th {\n",
       "        text-align: right;\n",
       "    }\n",
       "</style>\n",
       "<table border=\"1\" class=\"dataframe\">\n",
       "  <thead>\n",
       "    <tr style=\"text-align: right;\">\n",
       "      <th></th>\n",
       "      <th>bedrooms</th>\n",
       "      <th>bathrooms</th>\n",
       "      <th>rooms</th>\n",
       "      <th>squareFootage</th>\n",
       "      <th>lotSize</th>\n",
       "      <th>yearBuilt</th>\n",
       "      <th>priorSaleAmount</th>\n",
       "    </tr>\n",
       "  </thead>\n",
       "  <tbody>\n",
       "    <tr>\n",
       "      <th>0</th>\n",
       "      <td>3</td>\n",
       "      <td>2.0</td>\n",
       "      <td>6</td>\n",
       "      <td>1378</td>\n",
       "      <td>9968</td>\n",
       "      <td>2003.0</td>\n",
       "      <td>165700.0</td>\n",
       "    </tr>\n",
       "    <tr>\n",
       "      <th>1</th>\n",
       "      <td>2</td>\n",
       "      <td>2.0</td>\n",
       "      <td>6</td>\n",
       "      <td>1653</td>\n",
       "      <td>6970</td>\n",
       "      <td>2004.0</td>\n",
       "      <td>0.0</td>\n",
       "    </tr>\n",
       "  </tbody>\n",
       "</table>\n",
       "</div>"
      ],
      "text/plain": [
       "   bedrooms  bathrooms  rooms  squareFootage  lotSize  yearBuilt  \\\n",
       "0         3        2.0      6           1378     9968     2003.0   \n",
       "1         2        2.0      6           1653     6970     2004.0   \n",
       "\n",
       "   priorSaleAmount  \n",
       "0         165700.0  \n",
       "1              0.0  "
      ]
     },
     "execution_count": 23,
     "metadata": {},
     "output_type": "execute_result"
    }
   ],
   "source": [
    "X.head(2)"
   ]
  },
  {
   "cell_type": "code",
   "execution_count": 24,
   "metadata": {},
   "outputs": [
    {
     "name": "stdout",
     "output_type": "stream",
     "text": [
      "<class 'pandas.core.frame.DataFrame'>\n",
      "RangeIndex: 15000 entries, 0 to 14999\n",
      "Data columns (total 18 columns):\n",
      " #   Column           Non-Null Count  Dtype  \n",
      "---  ------           --------------  -----  \n",
      " 0   id               15000 non-null  int64  \n",
      " 1   address          15000 non-null  object \n",
      " 2   city             15000 non-null  object \n",
      " 3   state            15000 non-null  object \n",
      " 4   zipcode          15000 non-null  int64  \n",
      " 5   latitude         14985 non-null  float64\n",
      " 6   longitude        14985 non-null  float64\n",
      " 7   bedrooms         15000 non-null  int64  \n",
      " 8   bathrooms        15000 non-null  float64\n",
      " 9   rooms            15000 non-null  int64  \n",
      " 10  squareFootage    15000 non-null  int64  \n",
      " 11  lotSize          15000 non-null  int64  \n",
      " 12  yearBuilt        14999 non-null  float64\n",
      " 13  lastSaleDate     15000 non-null  object \n",
      " 14  lastSaleAmount   15000 non-null  int64  \n",
      " 15  priorSaleDate    11173 non-null  object \n",
      " 16  priorSaleAmount  11287 non-null  float64\n",
      " 17  estimated_value  15000 non-null  int64  \n",
      "dtypes: float64(5), int64(8), object(5)\n",
      "memory usage: 2.1+ MB\n"
     ]
    }
   ],
   "source": [
    "df.info()"
   ]
  },
  {
   "cell_type": "code",
   "execution_count": 25,
   "metadata": {},
   "outputs": [],
   "source": [
    "y=df.estimated_value "
   ]
  },
  {
   "cell_type": "code",
   "execution_count": 26,
   "metadata": {},
   "outputs": [
    {
     "data": {
      "text/plain": [
       "0.7648477834199695"
      ]
     },
     "execution_count": 26,
     "metadata": {},
     "output_type": "execute_result"
    }
   ],
   "source": [
    "lg = LinearRegression()\n",
    "lg.fit(X,y) #training \n",
    "lg.score(X,y) "
   ]
  },
  {
   "cell_type": "code",
   "execution_count": 27,
   "metadata": {},
   "outputs": [],
   "source": [
    "X_train, X_test,  y_train, y_test= train_test_split(X,y)"
   ]
  },
  {
   "cell_type": "code",
   "execution_count": 28,
   "metadata": {},
   "outputs": [
    {
     "data": {
      "text/plain": [
       "((11250, 7), (11250,))"
      ]
     },
     "execution_count": 28,
     "metadata": {},
     "output_type": "execute_result"
    }
   ],
   "source": [
    "X_train.shape, y_train.shape "
   ]
  },
  {
   "cell_type": "code",
   "execution_count": 29,
   "metadata": {},
   "outputs": [
    {
     "data": {
      "text/plain": [
       "0.747551985224858"
      ]
     },
     "execution_count": 29,
     "metadata": {},
     "output_type": "execute_result"
    }
   ],
   "source": [
    "lg = LinearRegression()\n",
    "lg.fit(X_train,y_train) # training , fit \n",
    "lg.score(X_test,y_test) # evaluate , score, R2 "
   ]
  },
  {
   "cell_type": "code",
   "execution_count": 30,
   "metadata": {},
   "outputs": [],
   "source": [
    "df['estimated_value_bins']=df.estimated_value.apply(lambda x: 'high' if x> 500000 else 'low')"
   ]
  },
  {
   "cell_type": "code",
   "execution_count": 31,
   "metadata": {},
   "outputs": [
    {
     "data": {
      "text/plain": [
       "high    7963\n",
       "low     7037\n",
       "Name: estimated_value_bins, dtype: int64"
      ]
     },
     "execution_count": 31,
     "metadata": {},
     "output_type": "execute_result"
    }
   ],
   "source": [
    "df.estimated_value_bins.value_counts()"
   ]
  },
  {
   "cell_type": "code",
   "execution_count": 32,
   "metadata": {},
   "outputs": [],
   "source": [
    "y2= df.estimated_value_bins"
   ]
  },
  {
   "cell_type": "code",
   "execution_count": 33,
   "metadata": {},
   "outputs": [],
   "source": [
    "log = LogisticRegression() "
   ]
  },
  {
   "cell_type": "code",
   "execution_count": 34,
   "metadata": {},
   "outputs": [],
   "source": [
    "X_train, X_test,  y2_train, y2_test= train_test_split(X,y2)"
   ]
  },
  {
   "cell_type": "code",
   "execution_count": 35,
   "metadata": {},
   "outputs": [
    {
     "data": {
      "text/plain": [
       "LogisticRegression()"
      ]
     },
     "execution_count": 35,
     "metadata": {},
     "output_type": "execute_result"
    }
   ],
   "source": [
    "log.fit(X_train, y2_train)"
   ]
  },
  {
   "cell_type": "code",
   "execution_count": 36,
   "metadata": {},
   "outputs": [
    {
     "data": {
      "text/plain": [
       "0.8245333333333333"
      ]
     },
     "execution_count": 36,
     "metadata": {},
     "output_type": "execute_result"
    }
   ],
   "source": [
    "log.score(X_test, y2_test)"
   ]
  },
  {
   "cell_type": "code",
   "execution_count": 37,
   "metadata": {},
   "outputs": [],
   "source": [
    "y_pred = log.predict(X_test) "
   ]
  },
  {
   "cell_type": "code",
   "execution_count": 38,
   "metadata": {},
   "outputs": [
    {
     "data": {
      "text/plain": [
       "array(['high', 'high', 'high', ..., 'low', 'low', 'high'], dtype=object)"
      ]
     },
     "execution_count": 38,
     "metadata": {},
     "output_type": "execute_result"
    }
   ],
   "source": [
    "np.array(y2_test)"
   ]
  },
  {
   "cell_type": "code",
   "execution_count": 39,
   "metadata": {},
   "outputs": [
    {
     "data": {
      "text/plain": [
       "array([[1613,  381],\n",
       "       [ 277, 1479]])"
      ]
     },
     "execution_count": 39,
     "metadata": {},
     "output_type": "execute_result"
    }
   ],
   "source": [
    "confusion_matrix(y2_test,y_pred )"
   ]
  },
  {
   "cell_type": "code",
   "execution_count": 40,
   "metadata": {},
   "outputs": [],
   "source": [
    "## Section 2.2 Continued\n",
    "from IPython.display import Image"
   ]
  },
  {
   "cell_type": "code",
   "execution_count": 41,
   "metadata": {},
   "outputs": [
    {
     "data": {
      "image/png": "[encoded data removed]",
      "text/plain": [
       "<IPython.core.display.Image object>"
      ]
     },
     "execution_count": 41,
     "metadata": {},
     "output_type": "execute_result"
    }
   ],
   "source": [
    "Image('../../svm.png')\n",
    "#print('Support Vector Machine')"
   ]
  },
  {
   "cell_type": "code",
   "execution_count": 43,
   "metadata": {},
   "outputs": [
    {
     "data": {
      "text/plain": [
       "-0.05625200148334941"
      ]
     },
     "execution_count": 43,
     "metadata": {},
     "output_type": "execute_result"
    }
   ],
   "source": [
    "svr= SVR() \n",
    "svr.fit(X_train, y_train)\n",
    "svr.score(X_test, y_test) \n",
    "# not so great "
   ]
  },
  {
   "cell_type": "code",
   "execution_count": 44,
   "metadata": {},
   "outputs": [
    {
     "data": {
      "text/plain": [
       "0.7016"
      ]
     },
     "execution_count": 44,
     "metadata": {},
     "output_type": "execute_result"
    }
   ],
   "source": [
    "svc= SVC() \n",
    "svc.fit(X_train, y2_train)\n",
    "svc.score(X_test, y2_test) "
   ]
  },
  {
   "cell_type": "code",
   "execution_count": 45,
   "metadata": {},
   "outputs": [],
   "source": [
    "y2_pred=svc.predict(X_test)"
   ]
  },
  {
   "cell_type": "code",
   "execution_count": 46,
   "metadata": {},
   "outputs": [
    {
     "data": {
      "text/plain": [
       "array([[1041,  953],\n",
       "       [ 166, 1590]])"
      ]
     },
     "execution_count": 46,
     "metadata": {},
     "output_type": "execute_result"
    }
   ],
   "source": [
    "confusion_matrix(y2_test, y2_pred)"
   ]
  },
  {
   "cell_type": "code",
   "execution_count": 42,
   "metadata": {},
   "outputs": [],
   "source": [
    "## KNN: \n",
    "# xxxxxx\n",
    "# unknown=x\n",
    "# xxxxx    \n",
    "\n",
    "#      ooooooo\n",
    "#         unknown= o \n",
    "#     ooooooo"
   ]
  },
  {
   "cell_type": "code",
   "execution_count": 47,
   "metadata": {},
   "outputs": [],
   "source": [
    "knn= KNeighborsRegressor() "
   ]
  },
  {
   "cell_type": "code",
   "execution_count": 48,
   "metadata": {},
   "outputs": [
    {
     "data": {
      "text/plain": [
       "KNeighborsRegressor()"
      ]
     },
     "execution_count": 48,
     "metadata": {},
     "output_type": "execute_result"
    }
   ],
   "source": [
    "knn.fit(X_train, y_train)"
   ]
  },
  {
   "cell_type": "code",
   "execution_count": 49,
   "metadata": {},
   "outputs": [
    {
     "data": {
      "text/plain": [
       "-0.23838507257131303"
      ]
     },
     "execution_count": 49,
     "metadata": {},
     "output_type": "execute_result"
    }
   ],
   "source": [
    "knn.score(X_test, y_test)"
   ]
  },
  {
   "cell_type": "code",
   "execution_count": 50,
   "metadata": {},
   "outputs": [],
   "source": [
    "knn= KNeighborsClassifier()"
   ]
  },
  {
   "cell_type": "code",
   "execution_count": 51,
   "metadata": {},
   "outputs": [
    {
     "data": {
      "text/plain": [
       "KNeighborsClassifier()"
      ]
     },
     "execution_count": 51,
     "metadata": {},
     "output_type": "execute_result"
    }
   ],
   "source": [
    "knn.fit(X_train, y2_train)"
   ]
  },
  {
   "cell_type": "code",
   "execution_count": 52,
   "metadata": {},
   "outputs": [
    {
     "data": {
      "text/plain": [
       "0.8298666666666666"
      ]
     },
     "execution_count": 52,
     "metadata": {},
     "output_type": "execute_result"
    }
   ],
   "source": [
    "knn.score(X_test,y2_test) "
   ]
  },
  {
   "cell_type": "code",
   "execution_count": 53,
   "metadata": {},
   "outputs": [],
   "source": [
    "y2_pred=knn.predict(X_test)"
   ]
  },
  {
   "cell_type": "code",
   "execution_count": 54,
   "metadata": {},
   "outputs": [
    {
     "data": {
      "text/plain": [
       "array([[1639,  355],\n",
       "       [ 283, 1473]])"
      ]
     },
     "execution_count": 54,
     "metadata": {},
     "output_type": "execute_result"
    }
   ],
   "source": [
    "confusion_matrix(y2_test, y2_pred)"
   ]
  },
  {
   "cell_type": "markdown",
   "metadata": {},
   "source": [
    "## Section 2.3 Association and correlation"
   ]
  },
  {
   "cell_type": "code",
   "execution_count": 148,
   "metadata": {},
   "outputs": [
    {
     "data": {
      "text/plain": [
       "<matplotlib.axes._subplots.AxesSubplot at 0x1a1599c9d0>"
      ]
     },
     "execution_count": 148,
     "metadata": {},
     "output_type": "execute_result"
    },
    {
     "data": {
      "image/png": "[encoded data removed]",
      "text/plain": [
       "<matplotlib.figure.Figure at 0x1a14ce2ad0>"
      ]
     },
     "metadata": {},
     "output_type": "display_data"
    }
   ],
   "source": [
    "sns.heatmap(df.corr())"
   ]
  },
  {
   "cell_type": "code",
   "execution_count": 149,
   "metadata": {},
   "outputs": [
    {
     "data": {
      "text/html": [
       "<div>\n",
       "<style>\n",
       "    .dataframe thead tr:only-child th {\n",
       "        text-align: right;\n",
       "    }\n",
       "\n",
       "    .dataframe thead th {\n",
       "        text-align: left;\n",
       "    }\n",
       "\n",
       "    .dataframe tbody tr th {\n",
       "        vertical-align: top;\n",
       "    }\n",
       "</style>\n",
       "<table border=\"1\" class=\"dataframe\">\n",
       "  <thead>\n",
       "    <tr style=\"text-align: right;\">\n",
       "      <th></th>\n",
       "      <th>id</th>\n",
       "      <th>zipcode</th>\n",
       "      <th>latitude</th>\n",
       "      <th>longitude</th>\n",
       "      <th>bedrooms</th>\n",
       "      <th>bathrooms</th>\n",
       "      <th>rooms</th>\n",
       "      <th>squareFootage</th>\n",
       "      <th>lotSize</th>\n",
       "      <th>yearBuilt</th>\n",
       "      <th>lastSaleAmount</th>\n",
       "      <th>priorSaleAmount</th>\n",
       "      <th>estimated_value</th>\n",
       "    </tr>\n",
       "  </thead>\n",
       "  <tbody>\n",
       "    <tr>\n",
       "      <th>id</th>\n",
       "      <td>3.832695e+15</td>\n",
       "      <td>-4.794798e+06</td>\n",
       "      <td>-134755.796294</td>\n",
       "      <td>97277.793395</td>\n",
       "      <td>4.241855e+06</td>\n",
       "      <td>9.277448e+06</td>\n",
       "      <td>1.140562e+07</td>\n",
       "      <td>7.357116e+09</td>\n",
       "      <td>8.457335e+09</td>\n",
       "      <td>7.661356e+07</td>\n",
       "      <td>3.326786e+12</td>\n",
       "      <td>2.403030e+11</td>\n",
       "      <td>3.940756e+12</td>\n",
       "    </tr>\n",
       "    <tr>\n",
       "      <th>zipcode</th>\n",
       "      <td>-4.794798e+06</td>\n",
       "      <td>9.438634e+01</td>\n",
       "      <td>0.105769</td>\n",
       "      <td>0.152571</td>\n",
       "      <td>-1.605609e-01</td>\n",
       "      <td>-8.546300e-02</td>\n",
       "      <td>5.964580e-01</td>\n",
       "      <td>6.549458e+00</td>\n",
       "      <td>-1.103540e+03</td>\n",
       "      <td>-5.065034e+01</td>\n",
       "      <td>2.479246e+05</td>\n",
       "      <td>1.030079e+05</td>\n",
       "      <td>4.366604e+05</td>\n",
       "    </tr>\n",
       "    <tr>\n",
       "      <th>latitude</th>\n",
       "      <td>-1.347558e+05</td>\n",
       "      <td>1.057691e-01</td>\n",
       "      <td>0.000555</td>\n",
       "      <td>0.000468</td>\n",
       "      <td>-1.754563e-03</td>\n",
       "      <td>-6.524595e-03</td>\n",
       "      <td>-9.848155e-03</td>\n",
       "      <td>-5.015548e+00</td>\n",
       "      <td>-6.593470e+00</td>\n",
       "      <td>-7.428908e-02</td>\n",
       "      <td>-2.317704e+03</td>\n",
       "      <td>-1.773170e+03</td>\n",
       "      <td>-3.163364e+03</td>\n",
       "    </tr>\n",
       "    <tr>\n",
       "      <th>longitude</th>\n",
       "      <td>9.727779e+04</td>\n",
       "      <td>1.525709e-01</td>\n",
       "      <td>0.000468</td>\n",
       "      <td>0.001583</td>\n",
       "      <td>7.981594e-04</td>\n",
       "      <td>4.991539e-03</td>\n",
       "      <td>2.032934e-03</td>\n",
       "      <td>2.241057e+00</td>\n",
       "      <td>7.941290e+00</td>\n",
       "      <td>7.233661e-02</td>\n",
       "      <td>1.134553e+03</td>\n",
       "      <td>1.306180e+03</td>\n",
       "      <td>2.449320e+03</td>\n",
       "    </tr>\n",
       "    <tr>\n",
       "      <th>bedrooms</th>\n",
       "      <td>4.241855e+06</td>\n",
       "      <td>-1.605609e-01</td>\n",
       "      <td>-0.001755</td>\n",
       "      <td>0.000798</td>\n",
       "      <td>8.050231e-01</td>\n",
       "      <td>5.294167e-01</td>\n",
       "      <td>1.251811e+00</td>\n",
       "      <td>4.627877e+02</td>\n",
       "      <td>4.285138e+02</td>\n",
       "      <td>-1.656479e+00</td>\n",
       "      <td>9.398271e+04</td>\n",
       "      <td>6.326439e+04</td>\n",
       "      <td>1.670586e+05</td>\n",
       "    </tr>\n",
       "    <tr>\n",
       "      <th>bathrooms</th>\n",
       "      <td>9.277448e+06</td>\n",
       "      <td>-8.546300e-02</td>\n",
       "      <td>-0.006525</td>\n",
       "      <td>0.004992</td>\n",
       "      <td>5.294167e-01</td>\n",
       "      <td>1.360206e+00</td>\n",
       "      <td>1.567688e+00</td>\n",
       "      <td>7.790507e+02</td>\n",
       "      <td>9.104679e+02</td>\n",
       "      <td>6.793260e+00</td>\n",
       "      <td>2.683082e+05</td>\n",
       "      <td>1.783968e+05</td>\n",
       "      <td>4.211742e+05</td>\n",
       "    </tr>\n",
       "    <tr>\n",
       "      <th>rooms</th>\n",
       "      <td>1.140562e+07</td>\n",
       "      <td>5.964580e-01</td>\n",
       "      <td>-0.009848</td>\n",
       "      <td>0.002033</td>\n",
       "      <td>1.251811e+00</td>\n",
       "      <td>1.567688e+00</td>\n",
       "      <td>3.836116e+00</td>\n",
       "      <td>1.254643e+03</td>\n",
       "      <td>1.038417e+03</td>\n",
       "      <td>-2.797016e+00</td>\n",
       "      <td>3.502513e+05</td>\n",
       "      <td>2.430849e+05</td>\n",
       "      <td>5.740237e+05</td>\n",
       "    </tr>\n",
       "    <tr>\n",
       "      <th>squareFootage</th>\n",
       "      <td>7.357116e+09</td>\n",
       "      <td>6.549458e+00</td>\n",
       "      <td>-5.015548</td>\n",
       "      <td>2.241057</td>\n",
       "      <td>4.627877e+02</td>\n",
       "      <td>7.790507e+02</td>\n",
       "      <td>1.254643e+03</td>\n",
       "      <td>6.899562e+05</td>\n",
       "      <td>9.241945e+05</td>\n",
       "      <td>2.866840e+03</td>\n",
       "      <td>2.154884e+08</td>\n",
       "      <td>1.377630e+08</td>\n",
       "      <td>3.454582e+08</td>\n",
       "    </tr>\n",
       "    <tr>\n",
       "      <th>lotSize</th>\n",
       "      <td>8.457335e+09</td>\n",
       "      <td>-1.103540e+03</td>\n",
       "      <td>-6.593470</td>\n",
       "      <td>7.941290</td>\n",
       "      <td>4.285138e+02</td>\n",
       "      <td>9.104679e+02</td>\n",
       "      <td>1.038417e+03</td>\n",
       "      <td>9.241945e+05</td>\n",
       "      <td>9.079853e+06</td>\n",
       "      <td>2.575406e+04</td>\n",
       "      <td>4.521032e+08</td>\n",
       "      <td>1.919438e+08</td>\n",
       "      <td>6.939180e+08</td>\n",
       "    </tr>\n",
       "    <tr>\n",
       "      <th>yearBuilt</th>\n",
       "      <td>7.661356e+07</td>\n",
       "      <td>-5.065034e+01</td>\n",
       "      <td>-0.074289</td>\n",
       "      <td>0.072337</td>\n",
       "      <td>-1.656479e+00</td>\n",
       "      <td>6.793260e+00</td>\n",
       "      <td>-2.797016e+00</td>\n",
       "      <td>2.866840e+03</td>\n",
       "      <td>2.575406e+04</td>\n",
       "      <td>8.962271e+02</td>\n",
       "      <td>1.801012e+06</td>\n",
       "      <td>1.141169e+06</td>\n",
       "      <td>2.634072e+06</td>\n",
       "    </tr>\n",
       "    <tr>\n",
       "      <th>lastSaleAmount</th>\n",
       "      <td>3.326786e+12</td>\n",
       "      <td>2.479246e+05</td>\n",
       "      <td>-2317.703724</td>\n",
       "      <td>1134.552961</td>\n",
       "      <td>9.398271e+04</td>\n",
       "      <td>2.683082e+05</td>\n",
       "      <td>3.502513e+05</td>\n",
       "      <td>2.154884e+08</td>\n",
       "      <td>4.521032e+08</td>\n",
       "      <td>1.801012e+06</td>\n",
       "      <td>6.017103e+11</td>\n",
       "      <td>7.543743e+10</td>\n",
       "      <td>1.637338e+11</td>\n",
       "    </tr>\n",
       "    <tr>\n",
       "      <th>priorSaleAmount</th>\n",
       "      <td>2.403030e+11</td>\n",
       "      <td>1.030079e+05</td>\n",
       "      <td>-1773.169570</td>\n",
       "      <td>1306.179672</td>\n",
       "      <td>6.326439e+04</td>\n",
       "      <td>1.783968e+05</td>\n",
       "      <td>2.430849e+05</td>\n",
       "      <td>1.377630e+08</td>\n",
       "      <td>1.919438e+08</td>\n",
       "      <td>1.141169e+06</td>\n",
       "      <td>7.543743e+10</td>\n",
       "      <td>1.142026e+11</td>\n",
       "      <td>9.951301e+10</td>\n",
       "    </tr>\n",
       "    <tr>\n",
       "      <th>estimated_value</th>\n",
       "      <td>3.940756e+12</td>\n",
       "      <td>4.366604e+05</td>\n",
       "      <td>-3163.363716</td>\n",
       "      <td>2449.320289</td>\n",
       "      <td>1.670586e+05</td>\n",
       "      <td>4.211742e+05</td>\n",
       "      <td>5.740237e+05</td>\n",
       "      <td>3.454582e+08</td>\n",
       "      <td>6.939180e+08</td>\n",
       "      <td>2.634072e+06</td>\n",
       "      <td>1.637338e+11</td>\n",
       "      <td>9.951301e+10</td>\n",
       "      <td>2.544380e+11</td>\n",
       "    </tr>\n",
       "  </tbody>\n",
       "</table>\n",
       "</div>"
      ],
      "text/plain": [
       "                           id       zipcode       latitude     longitude  \\\n",
       "id               3.832695e+15 -4.794798e+06 -134755.796294  97277.793395   \n",
       "zipcode         -4.794798e+06  9.438634e+01       0.105769      0.152571   \n",
       "latitude        -1.347558e+05  1.057691e-01       0.000555      0.000468   \n",
       "longitude        9.727779e+04  1.525709e-01       0.000468      0.001583   \n",
       "bedrooms         4.241855e+06 -1.605609e-01      -0.001755      0.000798   \n",
       "bathrooms        9.277448e+06 -8.546300e-02      -0.006525      0.004992   \n",
       "rooms            1.140562e+07  5.964580e-01      -0.009848      0.002033   \n",
       "squareFootage    7.357116e+09  6.549458e+00      -5.015548      2.241057   \n",
       "lotSize          8.457335e+09 -1.103540e+03      -6.593470      7.941290   \n",
       "yearBuilt        7.661356e+07 -5.065034e+01      -0.074289      0.072337   \n",
       "lastSaleAmount   3.326786e+12  2.479246e+05   -2317.703724   1134.552961   \n",
       "priorSaleAmount  2.403030e+11  1.030079e+05   -1773.169570   1306.179672   \n",
       "estimated_value  3.940756e+12  4.366604e+05   -3163.363716   2449.320289   \n",
       "\n",
       "                     bedrooms     bathrooms         rooms  squareFootage  \\\n",
       "id               4.241855e+06  9.277448e+06  1.140562e+07   7.357116e+09   \n",
       "zipcode         -1.605609e-01 -8.546300e-02  5.964580e-01   6.549458e+00   \n",
       "latitude        -1.754563e-03 -6.524595e-03 -9.848155e-03  -5.015548e+00   \n",
       "longitude        7.981594e-04  4.991539e-03  2.032934e-03   2.241057e+00   \n",
       "bedrooms         8.050231e-01  5.294167e-01  1.251811e+00   4.627877e+02   \n",
       "bathrooms        5.294167e-01  1.360206e+00  1.567688e+00   7.790507e+02   \n",
       "rooms            1.251811e+00  1.567688e+00  3.836116e+00   1.254643e+03   \n",
       "squareFootage    4.627877e+02  7.790507e+02  1.254643e+03   6.899562e+05   \n",
       "lotSize          4.285138e+02  9.104679e+02  1.038417e+03   9.241945e+05   \n",
       "yearBuilt       -1.656479e+00  6.793260e+00 -2.797016e+00   2.866840e+03   \n",
       "lastSaleAmount   9.398271e+04  2.683082e+05  3.502513e+05   2.154884e+08   \n",
       "priorSaleAmount  6.326439e+04  1.783968e+05  2.430849e+05   1.377630e+08   \n",
       "estimated_value  1.670586e+05  4.211742e+05  5.740237e+05   3.454582e+08   \n",
       "\n",
       "                      lotSize     yearBuilt  lastSaleAmount  priorSaleAmount  \\\n",
       "id               8.457335e+09  7.661356e+07    3.326786e+12     2.403030e+11   \n",
       "zipcode         -1.103540e+03 -5.065034e+01    2.479246e+05     1.030079e+05   \n",
       "latitude        -6.593470e+00 -7.428908e-02   -2.317704e+03    -1.773170e+03   \n",
       "longitude        7.941290e+00  7.233661e-02    1.134553e+03     1.306180e+03   \n",
       "bedrooms         4.285138e+02 -1.656479e+00    9.398271e+04     6.326439e+04   \n",
       "bathrooms        9.104679e+02  6.793260e+00    2.683082e+05     1.783968e+05   \n",
       "rooms            1.038417e+03 -2.797016e+00    3.502513e+05     2.430849e+05   \n",
       "squareFootage    9.241945e+05  2.866840e+03    2.154884e+08     1.377630e+08   \n",
       "lotSize          9.079853e+06  2.575406e+04    4.521032e+08     1.919438e+08   \n",
       "yearBuilt        2.575406e+04  8.962271e+02    1.801012e+06     1.141169e+06   \n",
       "lastSaleAmount   4.521032e+08  1.801012e+06    6.017103e+11     7.543743e+10   \n",
       "priorSaleAmount  1.919438e+08  1.141169e+06    7.543743e+10     1.142026e+11   \n",
       "estimated_value  6.939180e+08  2.634072e+06    1.637338e+11     9.951301e+10   \n",
       "\n",
       "                 estimated_value  \n",
       "id                  3.940756e+12  \n",
       "zipcode             4.366604e+05  \n",
       "latitude           -3.163364e+03  \n",
       "longitude           2.449320e+03  \n",
       "bedrooms            1.670586e+05  \n",
       "bathrooms           4.211742e+05  \n",
       "rooms               5.740237e+05  \n",
       "squareFootage       3.454582e+08  \n",
       "lotSize             6.939180e+08  \n",
       "yearBuilt           2.634072e+06  \n",
       "lastSaleAmount      1.637338e+11  \n",
       "priorSaleAmount     9.951301e+10  \n",
       "estimated_value     2.544380e+11  "
      ]
     },
     "execution_count": 149,
     "metadata": {},
     "output_type": "execute_result"
    }
   ],
   "source": [
    "df.cov()"
   ]
  },
  {
   "cell_type": "code",
   "execution_count": null,
   "metadata": {
    "collapsed": true
   },
   "outputs": [],
   "source": []
  },
  {
   "cell_type": "code",
   "execution_count": null,
   "metadata": {
    "collapsed": true
   },
   "outputs": [],
   "source": []
  },
  {
   "cell_type": "code",
   "execution_count": 152,
   "metadata": {
    "collapsed": true
   },
   "outputs": [],
   "source": [
    "y=df.estimated_value"
   ]
  },
  {
   "cell_type": "code",
   "execution_count": 141,
   "metadata": {},
   "outputs": [
    {
     "data": {
      "text/plain": [
       "Index([u'bedrooms', u'bathrooms', u'rooms', u'squareFootage', u'lotSize',\n",
       "       u'yearBuilt', u'priorSaleAmount'],\n",
       "      dtype='object')"
      ]
     },
     "execution_count": 141,
     "metadata": {},
     "output_type": "execute_result"
    }
   ],
   "source": [
    "X.columns"
   ]
  },
  {
   "cell_type": "code",
   "execution_count": 146,
   "metadata": {},
   "outputs": [
    {
     "name": "stdout",
     "output_type": "stream",
     "text": [
      "====\n",
      "bedrooms\n",
      "mean: 2.7084\n",
      "std: 0.897230799854\n"
     ]
    },
    {
     "data": {
      "image/png": "[encoded data removed]",
      "text/plain": [
       "<matplotlib.figure.Figure at 0x1a15f6ec50>"
      ]
     },
     "metadata": {},
     "output_type": "display_data"
    },
    {
     "name": "stdout",
     "output_type": "stream",
     "text": [
      "====\n",
      "bathrooms\n",
      "mean: 2.19506666667\n",
      "std: 1.16627884429\n"
     ]
    },
    {
     "data": {
      "image/png": "[encoded data removed]",
      "text/plain": [
       "<matplotlib.figure.Figure at 0x1a1578ab50>"
      ]
     },
     "metadata": {},
     "output_type": "display_data"
    },
    {
     "name": "stdout",
     "output_type": "stream",
     "text": [
      "====\n",
      "rooms\n",
      "mean: 6.16413333333\n",
      "std: 1.95860051822\n"
     ]
    },
    {
     "data": {
      "image/png": "[encoded data removed]",
      "text/plain": [
       "<matplotlib.figure.Figure at 0x1a15a51d10>"
      ]
     },
     "metadata": {},
     "output_type": "display_data"
    },
    {
     "name": "stdout",
     "output_type": "stream",
     "text": [
      "====\n",
      "squareFootage\n",
      "mean: 1514.5044\n",
      "std: 830.635998733\n"
     ]
    },
    {
     "data": {
      "image/png": "[encoded data removed]",
      "text/plain": [
       "<matplotlib.figure.Figure at 0x1a1604be10>"
      ]
     },
     "metadata": {},
     "output_type": "display_data"
    },
    {
     "name": "stdout",
     "output_type": "stream",
     "text": [
      "====\n",
      "lotSize\n",
      "mean: 5820.7662\n",
      "std: 3013.27947037\n"
     ]
    },
    {
     "data": {
      "image/png": "[encoded data removed]",
      "text/plain": [
       "<matplotlib.figure.Figure at 0x1a15b2ba50>"
      ]
     },
     "metadata": {},
     "output_type": "display_data"
    },
    {
     "name": "stdout",
     "output_type": "stream",
     "text": [
      "====\n",
      "yearBuilt\n",
      "mean: 1929.38853333\n",
      "std: 33.8285343041\n"
     ]
    },
    {
     "data": {
      "image/png": "[encoded data removed]",
      "text/plain": [
       "<matplotlib.figure.Figure at 0x1a15cd7290>"
      ]
     },
     "metadata": {},
     "output_type": "display_data"
    },
    {
     "name": "stdout",
     "output_type": "stream",
     "text": [
      "====\n",
      "priorSaleAmount\n",
      "mean: 195216.200667\n",
      "std: 313797.906645\n"
     ]
    },
    {
     "data": {
      "image/png": "[encoded data removed]",
      "text/plain": [
       "<matplotlib.figure.Figure at 0x1a15b20850>"
      ]
     },
     "metadata": {},
     "output_type": "display_data"
    }
   ],
   "source": [
    "for i in X.columns:\n",
    "    print  ('====')\n",
    "    print i\n",
    "    X.loc[:, i].hist()\n",
    "    print 'mean:' ,  X.loc[:, i].mean()\n",
    "    print 'std:' ,  X.loc[:, i].std()\n",
    "    plt.show()"
   ]
  },
  {
   "cell_type": "code",
   "execution_count": 156,
   "metadata": {
    "collapsed": true
   },
   "outputs": [],
   "source": [
    "X2=X[(X.bedrooms<7) & (X.bathrooms< 7)   ] #drop  "
   ]
  },
  {
   "cell_type": "code",
   "execution_count": 157,
   "metadata": {},
   "outputs": [
    {
     "data": {
      "text/plain": [
       "<matplotlib.axes._subplots.AxesSubplot at 0x1a15c86d10>"
      ]
     },
     "execution_count": 157,
     "metadata": {},
     "output_type": "execute_result"
    },
    {
     "data": {
      "image/png": "[encoded data removed]",
      "text/plain": [
       "<matplotlib.figure.Figure at 0x1a15c93050>"
      ]
     },
     "metadata": {},
     "output_type": "display_data"
    }
   ],
   "source": [
    "X2.bathrooms.hist()"
   ]
  },
  {
   "cell_type": "code",
   "execution_count": null,
   "metadata": {
    "collapsed": true
   },
   "outputs": [],
   "source": []
  },
  {
   "cell_type": "code",
   "execution_count": null,
   "metadata": {
    "collapsed": true
   },
   "outputs": [],
   "source": []
  },
  {
   "cell_type": "code",
   "execution_count": 134,
   "metadata": {
    "collapsed": true
   },
   "outputs": [],
   "source": [
    "# Outliers \n",
    "\n",
    "# 1. Three Sigma Rule:   \n",
    "# 2. Boxplot Rule:\n",
    "    "
   ]
  },
  {
   "cell_type": "code",
   "execution_count": 162,
   "metadata": {},
   "outputs": [
    {
     "data": {
      "text/plain": [
       "<matplotlib.axes._subplots.AxesSubplot at 0x1a15b54c90>"
      ]
     },
     "execution_count": 162,
     "metadata": {},
     "output_type": "execute_result"
    },
    {
     "data": {
      "image/png": "[encoded data removed]",
      "text/plain": [
       "<matplotlib.figure.Figure at 0x1a15bd1110>"
      ]
     },
     "metadata": {},
     "output_type": "display_data"
    }
   ],
   "source": [
    "sns.boxplot(X[['bedrooms', 'bathrooms', 'rooms']])"
   ]
  },
  {
   "cell_type": "code",
   "execution_count": 165,
   "metadata": {},
   "outputs": [
    {
     "data": {
      "text/plain": [
       "<matplotlib.axes._subplots.AxesSubplot at 0x1a15eab3d0>"
      ]
     },
     "execution_count": 165,
     "metadata": {},
     "output_type": "execute_result"
    },
    {
     "data": {
      "image/png": "[encoded data removed]",
      "text/plain": [
       "<matplotlib.figure.Figure at 0x1a15c09dd0>"
      ]
     },
     "metadata": {},
     "output_type": "display_data"
    }
   ],
   "source": [
    "sns.boxplot(X[['lotSize']])"
   ]
  },
  {
   "cell_type": "code",
   "execution_count": null,
   "metadata": {
    "collapsed": true
   },
   "outputs": [],
   "source": []
  },
  {
   "cell_type": "code",
   "execution_count": null,
   "metadata": {
    "collapsed": true
   },
   "outputs": [],
   "source": []
  },
  {
   "cell_type": "code",
   "execution_count": 124,
   "metadata": {
    "collapsed": true
   },
   "outputs": [],
   "source": [
    "#Mahalanobis Rule  "
   ]
  },
  {
   "cell_type": "code",
   "execution_count": 131,
   "metadata": {
    "collapsed": true
   },
   "outputs": [],
   "source": [
    "def MahalanobisDist(x, y):\n",
    "    covariance_xy = np.cov(x,y, rowvar=0)\n",
    "    inv_covariance_xy = np.linalg.inv(covariance_xy)\n",
    "    xy_mean = np.mean(x),np.mean(y)\n",
    "    x_diff = np.array([x_i - xy_mean[0] for x_i in x])\n",
    "    y_diff = np.array([y_i - xy_mean[1] for y_i in y])\n",
    "    diff_xy = np.transpose([x_diff, y_diff])\n",
    "    \n",
    "    md = []\n",
    "    for i in range(len(diff_xy)):\n",
    "        md.append(np.sqrt(np.dot(np.dot(np.transpose(diff_xy[i]),inv_covariance_xy),diff_xy[i])))\n",
    "    return md"
   ]
  },
  {
   "cell_type": "code",
   "execution_count": 133,
   "metadata": {},
   "outputs": [
    {
     "data": {
      "text/plain": [
       "[0.29907509139050276,\n",
       " 0.46486017984700306,\n",
       " 1.4436650807702445,\n",
       " 1.1015699997639492,\n",
       " 2.0068484330525269,\n",
       " 1.6628011461732402,\n",
       " 2.0775848572441347,\n",
       " 0.46486017984700306,\n",
       " 1.2045428522263557,\n",
       " 1.2732274657026237]"
      ]
     },
     "execution_count": 133,
     "metadata": {},
     "output_type": "execute_result"
    }
   ],
   "source": [
    "# as column vectors\n",
    "x = np.random.poisson(5,10)\n",
    "y = np.random.poisson(5,10)\n",
    "MahalanobisDist(x,y)"
   ]
  },
  {
   "cell_type": "markdown",
   "metadata": {},
   "source": [
    "## Section 2.4 Dimensionality reduction"
   ]
  },
  {
   "cell_type": "markdown",
   "metadata": {},
   "source": [
    "Curse of dimensionality: \"As the number of features or dimensions grows, the amount of data we need to generalize accurately grows exponentially\" "
   ]
  },
  {
   "cell_type": "code",
   "execution_count": 116,
   "metadata": {
    "collapsed": true
   },
   "outputs": [],
   "source": [
    "from sklearn.decomposition import PCA "
   ]
  },
  {
   "cell_type": "code",
   "execution_count": 117,
   "metadata": {
    "collapsed": true
   },
   "outputs": [],
   "source": [
    "pca = PCA(4) "
   ]
  },
  {
   "cell_type": "code",
   "execution_count": 167,
   "metadata": {},
   "outputs": [
    {
     "data": {
      "text/plain": [
       "(15000, 7)"
      ]
     },
     "execution_count": 167,
     "metadata": {},
     "output_type": "execute_result"
    }
   ],
   "source": [
    "X.shape "
   ]
  },
  {
   "cell_type": "code",
   "execution_count": 168,
   "metadata": {
    "collapsed": true
   },
   "outputs": [],
   "source": [
    "X_transformed = pca.fit_transform(X)"
   ]
  },
  {
   "cell_type": "code",
   "execution_count": 169,
   "metadata": {},
   "outputs": [
    {
     "data": {
      "text/plain": [
       "(15000, 4)"
      ]
     },
     "execution_count": 169,
     "metadata": {},
     "output_type": "execute_result"
    }
   ],
   "source": [
    "X_transformed.shape"
   ]
  },
  {
   "cell_type": "code",
   "execution_count": 171,
   "metadata": {},
   "outputs": [
    {
     "data": {
      "text/plain": [
       "array([  4.34835866e-07,   1.39033126e-06,   1.76645671e-06,\n",
       "         9.91884229e-04,   1.22556479e-03,   8.13159056e-06,\n",
       "         9.99998757e-01])"
      ]
     },
     "execution_count": 171,
     "metadata": {},
     "output_type": "execute_result"
    }
   ],
   "source": [
    "pca.components_[0] "
   ]
  },
  {
   "cell_type": "code",
   "execution_count": 174,
   "metadata": {
    "collapsed": true
   },
   "outputs": [],
   "source": [
    "lg=LinearRegression()"
   ]
  },
  {
   "cell_type": "code",
   "execution_count": 175,
   "metadata": {
    "collapsed": true
   },
   "outputs": [],
   "source": [
    "X_train, X_test, y_train, y_test= train_test_split(X_transformed, y)"
   ]
  },
  {
   "cell_type": "code",
   "execution_count": 176,
   "metadata": {},
   "outputs": [
    {
     "data": {
      "text/plain": [
       "LinearRegression(copy_X=True, fit_intercept=True, n_jobs=1, normalize=False)"
      ]
     },
     "execution_count": 176,
     "metadata": {},
     "output_type": "execute_result"
    }
   ],
   "source": [
    "lg.fit(X_train, y_train)"
   ]
  },
  {
   "cell_type": "code",
   "execution_count": 177,
   "metadata": {},
   "outputs": [
    {
     "data": {
      "text/plain": [
       "0.70664730600167636"
      ]
     },
     "execution_count": 177,
     "metadata": {},
     "output_type": "execute_result"
    }
   ],
   "source": [
    "lg.score(X_test, y_test) "
   ]
  },
  {
   "cell_type": "markdown",
   "metadata": {},
   "source": [
    "## Seciton 2.5 Dimensionality reduction Continued : PCA"
   ]
  },
  {
   "cell_type": "markdown",
   "metadata": {},
   "source": [
    "## What is Principal Components Analysis (PCA)?\n",
    "\n",
    "PCA is a complexity-reduction technique that tries to reduce a set of variables down to a smaller set of components that represent most of the information in the variables.  At a conceptual level, PCA works by identifying sets of variables that share variance, and creating a component to represent that variance.  For example, the two images below represent the two different ways of sharing variance across three variables.  In each, overlapping areas represent shared variance.  \n",
    "\n",
    "![PCA example](pca_pic.png)\n",
    "\n",
    "A PCA of set A would probably result in one component representing the variance shared by all three, discarding the rest of the information in the circles.  A PCA of set B, on the other hand, would probably result in two components, one representing the overlapping area shared by magenta and cyan, and one representing the variance in yellow not already included in the magenta/cyan component.  In both cases, some variance is lost.\n",
    "\n",
    "## Why PCA?\n",
    "Losing variance in exchange for a smaller set of features can be worthwhile. Some model types (such as regression) assume that features will be uncorrelated with each other, and high levels of inter-feature correlation create unstable solutions. Solutions with fewer features are easier to understand and are more computationally efficient. Solutions with fewer features are also less vulnerable to overfitting.\n",
    "\n",
    "Curse of dimensionality: \n",
    "Working with data becomes more demanding as the number of dimensions increases. \n",
    "![CurseofDimensionality](curse_of_dimensionality.png)\n",
    "\n",
    "With n = 1, there are only 5 boxes to search. With n = 2, there are now 25 boxes; and with n = 3, there are 125 boxes to search. As n gets bigger, it becomes difficult to sample all the boxes. This makes the treasure harder to find — especially as many of the boxes are likely to be empty!\n",
    "In general, with n dimensions each allowing for m states, we will have m^n possible combinations. Try plugging in a few different values and you will be convinced that this presents a workload-versus-sampling challenge to machines tasked with repeatedly sampling different combinations of variables.\n",
    "With high-dimensional data, we simply cannot comprehensively sample all the possible combinations, leaving vast regions of feature space in the dark."
   ]
  },
  {
   "cell_type": "code",
   "execution_count": 26,
   "metadata": {
    "collapsed": true
   },
   "outputs": [],
   "source": [
    "import pandas as pd\n",
    "import numpy as np\n",
    "import matplotlib.pyplot as plt\n",
    "import seaborn as sns\n",
    "import math\n",
    "from matplotlib.mlab import PCA as mlabPCA\n",
    "from sklearn.preprocessing import StandardScaler\n",
    "from sklearn.decomposition import PCA "
   ]
  },
  {
   "cell_type": "code",
   "execution_count": 12,
   "metadata": {},
   "outputs": [
    {
     "name": "stdout",
     "output_type": "stream",
     "text": [
      "  cntry  idno  year  tvtot  ppltrst  pplfair  pplhlp  happy  sclmeet  sclact  \\\n",
      "0    CH   5.0     6    3.0      3.0     10.0     5.0    8.0      5.0     4.0   \n",
      "1    CH  25.0     6    6.0      5.0      7.0     5.0    9.0      3.0     2.0   \n",
      "\n",
      "   gndr  agea  partner  \n",
      "0   2.0  60.0      1.0  \n",
      "1   2.0  59.0      1.0  \n"
     ]
    },
    {
     "data": {
      "image/png": "[encoded data removed]",
      "text/plain": [
       "<matplotlib.figure.Figure at 0x11ccd0250>"
      ]
     },
     "metadata": {},
     "output_type": "display_data"
    },
    {
     "data": {
      "image/png": "[encoded data removed]",
      "text/plain": [
       "<matplotlib.figure.Figure at 0x110aa6610>"
      ]
     },
     "metadata": {},
     "output_type": "display_data"
    }
   ],
   "source": [
    "# Make the scatterplot matrix.\n",
    "\n",
    "# Setting the default plot aesthetics to be prettier.\n",
    "sns.set_style(\"white\")\n",
    "\n",
    "df = pd.read_csv('ESSdata.csv')\n",
    "\n",
    "print df.head(2)\n",
    "\n",
    "# Take a subset of the data for PCA. This limits to Swiss and Czech data from 2012\n",
    "# and keeps only specific columns.\n",
    "df_pca = df.loc[\n",
    "    ((df['cntry'] == 'CZ') | (df['cntry'] == 'CH')) & (df['year'] == 6),\n",
    "    ['tvtot','ppltrst','pplfair','pplhlp']\n",
    "].dropna()\n",
    "\n",
    "t = sns.regplot(\n",
    "    'ppltrst',\n",
    "    'pplfair',\n",
    "    df_pca,\n",
    "    x_jitter=.49,\n",
    "    y_jitter=.49,\n",
    "    fit_reg=False\n",
    ")\n",
    "t.set(xlim=(-1, 11), ylim=(-1, 11))\n",
    "t.axhline(0, color='k', linestyle='-', linewidth=2)\n",
    "t.axvline(0, color='k', linestyle='-', linewidth=2)\n",
    "t.axes.set_title('Raw data')\n",
    "plt.show()\n",
    "\n",
    "# Standardizing variables by subtracting the mean and dividing by the standard\n",
    "# deviation. Now both variables are on the same scale.\n",
    "df_pca['ppltrst_z'] = (df_pca['ppltrst'] - df_pca['ppltrst'].mean()) / df_pca['ppltrst'].std()\n",
    "df_pca['pplfair_z'] = (df_pca['pplfair'] - df_pca['pplfair'].mean()) / df_pca['pplfair'].std()\n",
    "\n",
    "t = sns.regplot(\n",
    "    'ppltrst_z',\n",
    "    'pplfair_z',\n",
    "    df_pca,\n",
    "    x_jitter=.49,\n",
    "    y_jitter=.49,\n",
    "    fit_reg=False\n",
    ")\n",
    "t.axhline(0, color='k', linestyle='-', linewidth=2)\n",
    "t.axvline(0, color='k', linestyle='-', linewidth=2)\n",
    "t.axes.set_title('Standardized data')\n",
    "plt.show()\n"
   ]
  },
  {
   "cell_type": "markdown",
   "metadata": {},
   "source": [
    "In the plot above, both axes describe equal variance- they both run from about -3 to 2.5.  If we were to drop one of the axes and describe the data using only the information from the other axis, we would lose roughly 50% of our information. \n",
    "\n",
    "However, if we fit a line through the origin that minimizes the distance between the line and each point and then rotate the data, our axes and their information value will change.\n",
    "\n",
    "<IMG SRC='pca_vector.png'>\n",
    "\n",
    "\n"
   ]
  },
  {
   "cell_type": "markdown",
   "metadata": {},
   "source": [
    "## The Math Behind PCA\n",
    "The \"rotation\" pictured above is based on calculating the covariance matrix of the data and applying a linear transformation (rotation) and deriving from that the eigenvalues and eigenvectors that express the amount of variance in the data explained by the new axes.  To explore this further, let's delve into some linear algebra.\n",
    "\n",
    "## Covariance matrix\n",
    "A correlation matrix, which we have discussed before, is a covariance matrix where the covariances have been divided by the variances.  This standardizes the covariances so that they are all on the same scale (-1 to 1) and can be compared.  Covariance matrices, like correlation matrices, contain information about the amount of variance shared between pairs of variables.\n",
    "\n",
    "The variance of x is the sum of the squared differences between each value in x ($x_i$) and the mean of x ($\\bar{x}$), divided by the sample size (*n*).\n",
    "\n",
    "$$var(x)=\\frac{\\sum(x_i-\\bar{x})^2}n$$\n",
    "\n",
    "(Note that the standard deviation is $\\sqrt{var(x)}$)\n",
    "\n",
    "The covariance between two variables x and y is the product of the differences of each variable value and its mean, divided by the sample size.\n",
    "\n",
    "$$cov(A)=\\sum\\frac{(x_i-\\bar{x})(y_i-\\bar{y})}n$$\n",
    "\n",
    "Here is the covariance matrix for the ESS data:"
   ]
  },
  {
   "cell_type": "code",
   "execution_count": 21,
   "metadata": {},
   "outputs": [
    {
     "name": "stdout",
     "output_type": "stream",
     "text": [
      "Covariance Matrix:\n",
      "[[ 1.00071174 -0.24535312 -0.23531159 -0.17820482]\n",
      " [-0.24535312  1.00071174  0.60528939  0.49609931]\n",
      " [-0.23531159  0.60528939  1.00071174  0.53193085]\n",
      " [-0.17820482  0.49609931  0.53193085  1.00071174]]\n"
     ]
    }
   ],
   "source": [
    "# Take a subset of the data for PCA and drop missing values because PCA cannot\n",
    "# handle them. We could also impute, but missingness is quite low so dropping\n",
    "# missing rows is unlikely to create bias.\n",
    "df_pca = df.loc[\n",
    "    ((df['cntry'] == 'CZ') | (df['cntry'] == 'CH')) & (df['year']==6),\n",
    "    ['tvtot','ppltrst','pplfair','pplhlp']\n",
    "].dropna()\n",
    "\n",
    "# Normalize the data so that all variables have a mean of 0 and standard deviation\n",
    "# of 1.\n",
    "X = StandardScaler().fit_transform(df_pca)\n",
    "\n",
    "# The NumPy covariance function assumes that variables are represented by rows,\n",
    "# not columns, so we transpose X.\n",
    "Xt = X.T\n",
    "Cx = np.cov(Xt)\n",
    "print 'Covariance Matrix:\\n', Cx"
   ]
  },
  {
   "cell_type": "markdown",
   "metadata": {},
   "source": [
    "## Eigenvectors\n",
    "An Eigenvector is the directional aspect of a component – it is the red line in the graph earlier.  During PCA, the eigenvectors are chosen to be orthogonal, that is, to have a correlation of 0 with one another.  In fact, this is done sequentially.  First, a vector is found that minimizes the distance between that vector and the datapoints. This vector is the first component. Next, a second vector is found that also minimizes the distance between that vector and the datapoints, the catch being that this second vector must be perpendicular to the first in one of the n dimensions of the space. This procedure continues until there are n vectors.\n",
    "\n",
    "## Eigenvalues\n",
    "Eigenvalues represent the length of the Eigenvectors – each eigenvector has an eigenvalue.  The length of the eigenvector encodes the proportion of total variance explained by a component.  The total variance is equal to the number of variables in the PCA.  Thus, an Eigenvalue of 1 means that the component explains the same amount of variance as one variable.  An eigenvalue greater than 1 is desirable, since a component with an eigenvalue of 1 adds no value beyond the information contained in any individual variable, and an eigenvalue of less than 1 is actually less efficient at conveying information than a variable by itself.  An eigenvalue of 2 means that the component contains an amount of information equal to that of two variables.  Of course, it doesn’t mean that only two variables load on that component.\n",
    "\n"
   ]
  },
  {
   "cell_type": "code",
   "execution_count": 20,
   "metadata": {},
   "outputs": [
    {
     "name": "stdout",
     "output_type": "stream",
     "text": [
      "Eigenvector 1: \n",
      "[[-0.30084526]\n",
      " [ 0.55945823]\n",
      " [ 0.5681188 ]\n",
      " [ 0.52320135]]\n",
      "Eigenvalue 1: 2.2112568632\n",
      "----------------------------------------\n",
      "Eigenvector 2: \n",
      "[[ 0.94786152]\n",
      " [ 0.11600843]\n",
      " [ 0.15403897]\n",
      " [ 0.25371751]]\n",
      "Eigenvalue 2: 0.884741357071\n",
      "----------------------------------------\n",
      "Eigenvector 3: \n",
      "[[ 0.10491426]\n",
      " [ 0.51597659]\n",
      " [ 0.28505945]\n",
      " [-0.80093836]]\n",
      "Eigenvalue 3: 0.515142138924\n",
      "----------------------------------------\n",
      "Eigenvector 4: \n",
      "[[ 0.00660771]\n",
      " [ 0.63821367]\n",
      " [-0.75647481]\n",
      " [ 0.14277786]]\n",
      "Eigenvalue 4: 0.391706615894\n",
      "----------------------------------------\n",
      "The percentage of total variance in the dataset explained by each component calculated by hand \n",
      "[ 0.55242103  0.22102802  0.12869394  0.097857  ]\n"
     ]
    }
   ],
   "source": [
    "# Calculating eigenvalues and eigenvectors.\n",
    "eig_val_cov, eig_vec_cov = np.linalg.eig(Cx)\n",
    "\n",
    "# Inspecting the eigenvalues and eigenvectors.\n",
    "for i in range(len(eig_val_cov)):\n",
    "    eigvec_cov = eig_vec_cov[:, i].reshape(1, 4).T\n",
    "    print('Eigenvector {}: \\n{}'.format(i + 1, eigvec_cov))\n",
    "    print('Eigenvalue {}: {}'.format(i + 1, eig_val_cov[i]))\n",
    "    print(40 * '-')\n",
    "\n",
    "print 'The percentage of total variance in the dataset explained by each component calculated by hand \\n',  eig_val_cov / sum(eig_val_cov)\n"
   ]
  },
  {
   "cell_type": "markdown",
   "metadata": {},
   "source": [
    "## How many components?\n",
    "The biggest decision to make when running a PCA is how many components to keep.  PCA will actually give us back as many components as there are variables in the correlation matrix.  If we have n variables and choose to keep n components, we will be able to reproduce 100% of the information in the original data.  On the other hand, we won’t have simplified our situation at all – we’ll still be dealing with the same number of separate pieces of information, just expressed as components instead of as variables.\n",
    "\n",
    "There are a number of rules to guide us in choosing the number of components to keep.  The most straightforward is to keep components with eigenvalues greater than 1, as they add value (because they contain more information than a single variable).  This rule tends to keep more components than is ideal.\n",
    "\n",
    "Another rule is to visualize the eigenvalues in order from highest to lowest, connecting them with a line. This is called a \"scree\" plot because it supposedly resembles the loose rock that accumulates at the foot of a mountain.  Upon visual inspection, the analyst will keep all the components whose eigenvalue falls above the point where the slope of the line changes the most drastically, also called the \"elbow\".  \n",
    "\n",
    "Many other rules also exist, including variance cutoffs where we only keep components that explain at least x% of the variance in the data, and programmatic ones involving simulating the PCA solution on equivalent randomized data.  Ultimately, the choice of how many components to keep comes down to your reasons for doing PCA.\n",
    "\n",
    "Let's see how many "
   ]
  },
  {
   "cell_type": "code",
   "execution_count": 23,
   "metadata": {},
   "outputs": [
    {
     "data": {
      "image/png": "[encoded data removed]",
      "text/plain": [
       "<matplotlib.figure.Figure at 0x117bc1a90>"
      ]
     },
     "metadata": {},
     "output_type": "display_data"
    }
   ],
   "source": [
    "plt.plot(eig_val_cov)\n",
    "plt.show()"
   ]
  },
  {
   "cell_type": "markdown",
   "metadata": {},
   "source": [
    "The scree plot and the eigenvalues >1 rule agree that we should keep only the first component. "
   ]
  },
  {
   "cell_type": "markdown",
   "metadata": {},
   "source": [
    "## Summary\n",
    "\n",
    "PCA is a series of linear transformations applied to a data frame to yield a smaller number of columns that explain a large proportion of the total variance contained in the data frame."
   ]
  },
  {
   "cell_type": "code",
   "execution_count": null,
   "metadata": {
    "collapsed": true
   },
   "outputs": [],
   "source": []
  },
  {
   "cell_type": "markdown",
   "metadata": {
    "collapsed": true
   },
   "source": [
    "# Python Installations"
   ]
  },
  {
   "cell_type": "markdown",
   "metadata": {},
   "source": [
    "## 1) Install Anaconda \n",
    "https://www.anaconda.com/download/"
   ]
  },
  {
   "cell_type": "markdown",
   "metadata": {},
   "source": [
    "## 2) Install Jupyter Notebook \n",
    "https://jupyter.org/install"
   ]
  },
  {
   "cell_type": "markdown",
   "metadata": {},
   "source": [
    "## 3) To launch Notebook \n",
    "### In your terminal, enter\n",
    "### jupyter notebook "
   ]
  },
  {
   "cell_type": "markdown",
   "metadata": {},
   "source": [
    "## 4) Install Python Libraries\n",
    "### Conda install pandas \n",
    "### Conda install numpy "
   ]
  }
 ],
 "metadata": {
  "kernelspec": {
   "display_name": "Python 3",
   "language": "python",
   "name": "python3"
  },
  "language_info": {
   "codemirror_mode": {
    "name": "ipython",
    "version": 3
   },
   "file_extension": ".py",
   "mimetype": "text/x-python",
   "name": "python",
   "nbconvert_exporter": "python",
   "pygments_lexer": "ipython3",
   "version": "3.8.5"
  }
 },
 "nbformat": 4,
 "nbformat_minor": 2
}
